{
  "nbformat": 4,
  "nbformat_minor": 0,
  "metadata": {
    "colab": {
      "name": "TensorFlowTutorialClass.ipynb",
      "provenance": [],
      "authorship_tag": "ABX9TyNM6KeMihl/gV3G6ANitB2z",
      "include_colab_link": true
    },
    "kernelspec": {
      "name": "python3",
      "display_name": "Python 3"
    }
  },
  "cells": [
    {
      "cell_type": "markdown",
      "metadata": {
        "id": "view-in-github",
        "colab_type": "text"
      },
      "source": [
        "<a href=\"https://colab.research.google.com/github/yakaboskic/ENGS_108_Fall_2020/blob/master/practice_notebooks/TensorFlowTutorialClass.ipynb\" target=\"_parent\"><img src=\"https://colab.research.google.com/assets/colab-badge.svg\" alt=\"Open In Colab\"/></a>"
      ]
    },
    {
      "cell_type": "code",
      "metadata": {
        "id": "aHXIrfhoFz5_"
      },
      "source": [
        "import tensorflow as tf\n",
        "import pandas as pd\n",
        "import numpy as np"
      ],
      "execution_count": null,
      "outputs": []
    },
    {
      "cell_type": "code",
      "metadata": {
        "id": "lhafgM22HrZo",
        "outputId": "5489e050-99db-48db-b4a3-20949b7bb8d6",
        "colab": {
          "base_uri": "https://localhost:8080/",
          "height": 36
        }
      },
      "source": [
        "tf.__version__"
      ],
      "execution_count": null,
      "outputs": [
        {
          "output_type": "execute_result",
          "data": {
            "application/vnd.google.colaboratory.intrinsic+json": {
              "type": "string"
            },
            "text/plain": [
              "'2.3.0'"
            ]
          },
          "metadata": {
            "tags": []
          },
          "execution_count": 2
        }
      ]
    },
    {
      "cell_type": "code",
      "metadata": {
        "id": "Mn7I0uRPHyc8"
      },
      "source": [
        "mnist_train = pd.read_csv('/content/sample_data/mnist_train_small.csv').values"
      ],
      "execution_count": null,
      "outputs": []
    },
    {
      "cell_type": "code",
      "metadata": {
        "id": "J6zuzkmTIGYr"
      },
      "source": [
        "mnist_test = pd.read_csv('/content/sample_data/mnist_test.csv').values"
      ],
      "execution_count": null,
      "outputs": []
    },
    {
      "cell_type": "code",
      "metadata": {
        "id": "YJA833Q_IIrq"
      },
      "source": [
        "data_train = mnist_train[:,1:]\n",
        "labels_train = mnist_train[:,0]\n",
        "data_test = mnist_test[:,1:]\n",
        "labels_test = mnist_test[:,0]"
      ],
      "execution_count": null,
      "outputs": []
    },
    {
      "cell_type": "code",
      "metadata": {
        "id": "yZIIrSksIwQM"
      },
      "source": [
        "train_dataset = tf.data.Dataset.from_tensor_slices((data_train, labels_train))\n",
        "test_dataset = tf.data.Dataset.from_tensor_slices((data_test, labels_test))"
      ],
      "execution_count": null,
      "outputs": []
    },
    {
      "cell_type": "code",
      "metadata": {
        "id": "XEvdIgLDIyzb"
      },
      "source": [
        "BATCH_SIZE = 64\n",
        "SHUFFLE_BUFFER_SIZE = 100\n",
        "\n",
        "train_dataset = train_dataset.shuffle(SHUFFLE_BUFFER_SIZE).batch(BATCH_SIZE)\n",
        "test_dataset = test_dataset.batch(BATCH_SIZE)"
      ],
      "execution_count": null,
      "outputs": []
    },
    {
      "cell_type": "code",
      "metadata": {
        "id": "zhGfkQLsK6sQ"
      },
      "source": [
        "model = tf.keras.Sequential([\n",
        "                             tf.keras.layers.Dense(64, activation='relu'),\n",
        "                             tf.keras.layers.Dense(128, activation='relu'),\n",
        "                             tf.keras.layers.Dense(64, activation='relu'),\n",
        "                             tf.keras.layers.Dropout(.3),\n",
        "                             tf.keras.layers.Dense(10)])"
      ],
      "execution_count": null,
      "outputs": []
    },
    {
      "cell_type": "code",
      "metadata": {
        "id": "Y16l1qwAMUf4"
      },
      "source": [
        "model.compile(optimizer=tf.keras.optimizers.RMSprop(),\n",
        "              loss=tf.keras.losses.SparseCategoricalCrossentropy(from_logits=True),\n",
        "              metrics=['sparse_categorical_accuracy'])"
      ],
      "execution_count": null,
      "outputs": []
    },
    {
      "cell_type": "code",
      "metadata": {
        "id": "RTEXHC1ZNU-h",
        "outputId": "7fa358db-2c7c-42a9-d213-05f2f3bf74e5",
        "colab": {
          "base_uri": "https://localhost:8080/",
          "height": 406
        }
      },
      "source": [
        "model.fit(train_dataset, epochs=)"
      ],
      "execution_count": null,
      "outputs": [
        {
          "output_type": "stream",
          "text": [
            "Epoch 1/10\n",
            "313/313 [==============================] - 1s 3ms/step - loss: 2.5690 - sparse_categorical_accuracy: 0.6308\n",
            "Epoch 2/10\n",
            "313/313 [==============================] - 1s 3ms/step - loss: 0.6244 - sparse_categorical_accuracy: 0.8399\n",
            "Epoch 3/10\n",
            "313/313 [==============================] - 1s 3ms/step - loss: 0.4720 - sparse_categorical_accuracy: 0.8856\n",
            "Epoch 4/10\n",
            "313/313 [==============================] - 1s 3ms/step - loss: 0.4222 - sparse_categorical_accuracy: 0.8995\n",
            "Epoch 5/10\n",
            "313/313 [==============================] - 1s 3ms/step - loss: 0.3817 - sparse_categorical_accuracy: 0.9101\n",
            "Epoch 6/10\n",
            "313/313 [==============================] - 1s 2ms/step - loss: 0.3613 - sparse_categorical_accuracy: 0.9137\n",
            "Epoch 7/10\n",
            "313/313 [==============================] - 1s 3ms/step - loss: 0.3455 - sparse_categorical_accuracy: 0.9194\n",
            "Epoch 8/10\n",
            "313/313 [==============================] - 1s 3ms/step - loss: 0.3513 - sparse_categorical_accuracy: 0.9234\n",
            "Epoch 9/10\n",
            "313/313 [==============================] - 1s 3ms/step - loss: 0.3622 - sparse_categorical_accuracy: 0.9210\n",
            "Epoch 10/10\n",
            "313/313 [==============================] - 1s 3ms/step - loss: 0.3497 - sparse_categorical_accuracy: 0.9237\n"
          ],
          "name": "stdout"
        },
        {
          "output_type": "execute_result",
          "data": {
            "text/plain": [
              "<tensorflow.python.keras.callbacks.History at 0x7f8d129899b0>"
            ]
          },
          "metadata": {
            "tags": []
          },
          "execution_count": 50
        }
      ]
    },
    {
      "cell_type": "code",
      "metadata": {
        "id": "jZCKZxr8NczX",
        "outputId": "f34da0c4-2c96-4309-abc2-2fdfed498624",
        "colab": {
          "base_uri": "https://localhost:8080/",
          "height": 54
        }
      },
      "source": [
        "model.evaluate(test_dataset)"
      ],
      "execution_count": null,
      "outputs": [
        {
          "output_type": "stream",
          "text": [
            "157/157 [==============================] - 0s 1ms/step - loss: 0.4702 - sparse_categorical_accuracy: 0.9124\n"
          ],
          "name": "stdout"
        },
        {
          "output_type": "execute_result",
          "data": {
            "text/plain": [
              "[0.47022318840026855, 0.9123912453651428]"
            ]
          },
          "metadata": {
            "tags": []
          },
          "execution_count": 51
        }
      ]
    },
    {
      "cell_type": "code",
      "metadata": {
        "id": "t13O76kgTj3C"
      },
      "source": [
        "from sklearn import preprocessing\n",
        "min_max_scaler = preprocessing.MinMaxScaler()"
      ],
      "execution_count": null,
      "outputs": []
    },
    {
      "cell_type": "code",
      "metadata": {
        "id": "aJonZmD7Nxg-"
      },
      "source": [
        "cal_train = pd.read_csv('/content/sample_data/california_housing_train.csv').values\n",
        "cal_test = pd.read_csv('/content/sample_data/california_housing_test.csv').values"
      ],
      "execution_count": null,
      "outputs": []
    },
    {
      "cell_type": "code",
      "metadata": {
        "id": "fgiwosD9T0Rl"
      },
      "source": [
        "cal_train_norm = min_max_scaler.fit_transform(cal_train)\n",
        "cal_test_norm = min_max_scaler.fit_transform(cal_test)"
      ],
      "execution_count": null,
      "outputs": []
    },
    {
      "cell_type": "code",
      "metadata": {
        "id": "3OTGmgI0QQ7H"
      },
      "source": [
        "cal_train_features = cal_train[:,:-1]\n",
        "cal_train_labels = cal_train[:,-1]\n",
        "cal_test_features = cal_test[:,:-1]\n",
        "cal_test_labels = cal_test[:,-1]"
      ],
      "execution_count": null,
      "outputs": []
    },
    {
      "cell_type": "code",
      "metadata": {
        "id": "TPIQLooRTxER"
      },
      "source": [
        "cal_train_features = cal_train_norm[:,:-1]\n",
        "cal_train_labels = cal_train_norm[:,-1]\n",
        "cal_test_features = cal_test_norm[:,:-1]\n",
        "cal_test_labels = cal_test_norm[:,-1]"
      ],
      "execution_count": null,
      "outputs": []
    },
    {
      "cell_type": "code",
      "metadata": {
        "id": "noqSQ-mFQS-3"
      },
      "source": [
        "cal_train_dataset = tf.data.Dataset.from_tensor_slices((cal_train_features, cal_train_labels))\n",
        "cal_test_dataset = tf.data.Dataset.from_tensor_slices((cal_test_features, cal_test_labels))"
      ],
      "execution_count": null,
      "outputs": []
    },
    {
      "cell_type": "code",
      "metadata": {
        "id": "SKFJNwKFQvLF"
      },
      "source": [
        "cal_model = tf.keras.Sequential([\n",
        "                                 tf.keras.layers.Dense(50, activation='relu'),\n",
        "                                 tf.keras.layers.Dense(40, activation='relu'),\n",
        "                                 tf.keras.layers.Dense(10, activation='relu'),\n",
        "                                 tf.keras.layers.Dense(1)])"
      ],
      "execution_count": null,
      "outputs": []
    },
    {
      "cell_type": "code",
      "metadata": {
        "id": "nUBX6oopRwTc"
      },
      "source": [
        "cal_model.compile(loss=tf.keras.losses.MeanSquaredError(),\n",
        "                  optimizer=tf.keras.optimizers.Adam())"
      ],
      "execution_count": null,
      "outputs": []
    },
    {
      "cell_type": "code",
      "metadata": {
        "id": "zUcljR6FSdJt",
        "outputId": "5f09c3ac-5883-4b73-97e3-f19b88ee814f",
        "colab": {
          "base_uri": "https://localhost:8080/",
          "height": 406
        }
      },
      "source": [
        "cal_model.fit(x=cal_train_features, y=cal_train_labels, epochs=10)"
      ],
      "execution_count": null,
      "outputs": [
        {
          "output_type": "stream",
          "text": [
            "Epoch 1/10\n",
            "532/532 [==============================] - 1s 1ms/step - loss: 0.0286\n",
            "Epoch 2/10\n",
            "532/532 [==============================] - 1s 1ms/step - loss: 0.0190\n",
            "Epoch 3/10\n",
            "532/532 [==============================] - 1s 1ms/step - loss: 0.0177\n",
            "Epoch 4/10\n",
            "532/532 [==============================] - 1s 1ms/step - loss: 0.0167\n",
            "Epoch 5/10\n",
            "532/532 [==============================] - 1s 1ms/step - loss: 0.0162\n",
            "Epoch 6/10\n",
            "532/532 [==============================] - 1s 1ms/step - loss: 0.0158\n",
            "Epoch 7/10\n",
            "532/532 [==============================] - 1s 1ms/step - loss: 0.0155\n",
            "Epoch 8/10\n",
            "532/532 [==============================] - 1s 1ms/step - loss: 0.0151\n",
            "Epoch 9/10\n",
            "532/532 [==============================] - 1s 1ms/step - loss: 0.0150\n",
            "Epoch 10/10\n",
            "532/532 [==============================] - 1s 1ms/step - loss: 0.0148\n"
          ],
          "name": "stdout"
        },
        {
          "output_type": "execute_result",
          "data": {
            "text/plain": [
              "<tensorflow.python.keras.callbacks.History at 0x7f8d08d717f0>"
            ]
          },
          "metadata": {
            "tags": []
          },
          "execution_count": 87
        }
      ]
    },
    {
      "cell_type": "code",
      "metadata": {
        "id": "6KpCeP9MSiT9"
      },
      "source": [
        "pred = cal_model.predict(x=cal_train_features[:3])"
      ],
      "execution_count": null,
      "outputs": []
    },
    {
      "cell_type": "code",
      "metadata": {
        "id": "nCgGdq5IUgqD"
      },
      "source": [
        "min_max_scaler."
      ],
      "execution_count": null,
      "outputs": []
    }
  ]
}