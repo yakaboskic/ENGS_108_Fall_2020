{
  "nbformat": 4,
  "nbformat_minor": 0,
  "metadata": {
    "colab": {
      "name": "assign_3a_ENGS_108_Fall_2020.ipynb",
      "provenance": [],
      "collapsed_sections": [],
      "toc_visible": true,
      "mount_file_id": "1wPgMja3bmtX-j5MbT0k_nLInc_OabSrt",
      "authorship_tag": "ABX9TyMVkKStSU1CTGsehx/upNXk",
      "include_colab_link": true
    },
    "kernelspec": {
      "name": "python3",
      "display_name": "Python 3"
    }
  },
  "cells": [
    {
      "cell_type": "markdown",
      "metadata": {
        "id": "view-in-github",
        "colab_type": "text"
      },
      "source": [
        "<a href=\"https://colab.research.google.com/github/yakaboskic/ENGS_108_Fall_2020/blob/course-dev_yakaboskic/assign_3a_ENGS_108_Fall_2020.ipynb\" target=\"_parent\"><img src=\"https://colab.research.google.com/assets/colab-badge.svg\" alt=\"Open In Colab\"/></a>"
      ]
    },
    {
      "cell_type": "markdown",
      "metadata": {
        "id": "W5PUrjJEU8hO"
      },
      "source": [
        "# **ENGS 108 Fall 2020 Assignment 3a**\n",
        "\n",
        "*Due October 5, 2020 at 11:59PM on Canvas*\n",
        "\n",
        "**Instructors:** George Cybenko\n",
        "\n",
        "**TAs:** Chase Yakaboski\n",
        "\n",
        "\n",
        "---\n",
        "\n",
        "## **Rules and Requirements**\n",
        "\n",
        "\n",
        "1.   You are only allowed to use Python packages that are explicity imported in \n",
        "the assignment notebook or are standard (bultin) python libraries like random, os, sys, etc, (Standard Bultin Python libraries will have a Python.org documentation). For this assignment you may use:\n",
        "  *   [numpy](https://numpy.org/doc/stable/)\n",
        "  *   [pandas](https://pandas.pydata.org/pandas-docs/stable/index.html)\n",
        "  *   [scikit-learn](https://scikit-learn.org/stable/)\n",
        "  *   [matplotlib](https://matplotlib.org/)\n",
        "\n",
        "2.   All code must be fit into the designated code or text blocks in the assignment notebook. They are indentified by a **TODO** qualifier.\n",
        "\n",
        "3. For analytical questions that don't require code, type your answer cleanly in Markdown. For help, see the [Google Colab Markdown Guide](https://colab.research.google.com/notebooks/markdown_guide.ipynb).\n",
        "\n",
        "---"
      ]
    },
    {
      "cell_type": "code",
      "metadata": {
        "id": "OdrHPCtpVDtH"
      },
      "source": [
        "''' Import Statements '''\n",
        "import numpy as np\n",
        "import pandas as pd\n",
        "import matplotlib.pyplot as plt\n",
        "import os\n",
        "import copy\n",
        "import pickle"
      ],
      "execution_count": null,
      "outputs": []
    },
    {
      "cell_type": "markdown",
      "metadata": {
        "id": "5jG1AhwJVYk2"
      },
      "source": [
        "## **Data Loading**\n",
        "Upload the red and synthetic datasets to your google colab session using Google Drive. Read the following [tutorial](https://github.com/yakaboskic/ENGS_108_Fall_2020) for how to get setup. "
      ]
    },
    {
      "cell_type": "code",
      "metadata": {
        "id": "oQTIoO0OVKE7"
      },
      "source": [
        "dataset_base_path = '/content/sample_data'\n",
        "\n",
        "#TODO: Set your base datasets path. This is my base path, you will need to change to match yours. \n",
        "dataset_github_path = '/content/drive/My Drive/git/ENGS_108_Fall_2020/datasets'"
      ],
      "execution_count": null,
      "outputs": []
    },
    {
      "cell_type": "code",
      "metadata": {
        "id": "CCljGNUBVdZO"
      },
      "source": [
        "#-- Load California Housing Data\n",
        "calif_train_df = pd.read_csv(os.path.join(dataset_base_path, 'california_housing_train.csv'))\n",
        "calif_test_df = pd.read_csv(os.path.join(dataset_base_path, 'california_housing_test.csv'))\n",
        "\n",
        "#-- Load Wine Data\n",
        "red_train_path = os.path.join(dataset_github_path, 'red_train.csv')\n",
        "red_valid_path = os.path.join(dataset_github_path, 'red_valid.csv')\n",
        "red_test_path = os.path.join(dataset_github_path, 'red_test.csv')\n",
        "red_train_df = pd.read_csv(red_train_path)\n",
        "red_valid_df = pd.read_csv(red_valid_path)\n",
        "red_test_df = pd.read_csv(red_test_path)"
      ],
      "execution_count": null,
      "outputs": []
    },
    {
      "cell_type": "markdown",
      "metadata": {
        "id": "h3Uub5j8WFCc"
      },
      "source": [
        "## **Problem 1: Linear Regression**\n",
        "In this problem, you will be building a linear regression model to predict California Housing prices with the dataset that is provided with google colab. \n",
        ">\n",
        "> **Part 1** A reasonable first step in every machine learning task is to understand the dataset at hand. Proceed to explore this problem’s dataset by addressing the following:\n",
        ">> **(a)** Using the pandas DataFrame *calif_train_df* that is already loaded for you. Print a statistical summary of the data. *Hint: There is a nice pandas function to do this, research the documentation and find it.* "
      ]
    },
    {
      "cell_type": "code",
      "metadata": {
        "id": "3U9KwgYpV08o"
      },
      "source": [
        "#TODO: Your code goes here."
      ],
      "execution_count": null,
      "outputs": []
    },
    {
      "cell_type": "markdown",
      "metadata": {
        "id": "beBzOU95XG8d"
      },
      "source": [
        ">> **(b)** Visualize the longitute and latitude features through a scatterplot and report on what the plot resembles. Maybe try playing with the graph opacity to yeild more sophisticated visualization."
      ]
    },
    {
      "cell_type": "code",
      "metadata": {
        "id": "uZlxH6SbW_nX"
      },
      "source": [
        "#TODO: Your code goes here."
      ],
      "execution_count": null,
      "outputs": []
    },
    {
      "cell_type": "markdown",
      "metadata": {
        "id": "BfBtKCUYZMUC"
      },
      "source": [
        "> **Part 2** Now we will build our linear regression model.\n",
        ">> **(a)** Using an appropriate library (such as scikit-learn), build a linear regression model on the training data so that you are using all available features to predict the median housing price of a new california district. "
      ]
    },
    {
      "cell_type": "code",
      "metadata": {
        "id": "Rf-W5DdjYSFc"
      },
      "source": [
        "from sklearn.linear_model import LinearRegression\n",
        "\n",
        "#TODO: Seperate the data into X, y\n",
        "\n",
        "def buildModelLinear(X, y):\n",
        "  ''' Return a trained linear regression model on your dataset. '''\n",
        "  return model\n",
        "\n",
        "#TODO: Your code goes here."
      ],
      "execution_count": null,
      "outputs": []
    },
    {
      "cell_type": "markdown",
      "metadata": {
        "id": "cJjVl9nKqSRt"
      },
      "source": [
        ">> **(b)** What is the largest coefficient of the linear model and which feature is associated with it?"
      ]
    },
    {
      "cell_type": "code",
      "metadata": {
        "id": "7CMvIL-LaVO8"
      },
      "source": [
        "#TODO: Your code goes here."
      ],
      "execution_count": null,
      "outputs": []
    },
    {
      "cell_type": "markdown",
      "metadata": {
        "id": "g7gcaOTLrVTS"
      },
      "source": [
        ">> **(c)** Choose an appropriate metric to calculate the accuracy/error of your linear regression model."
      ]
    },
    {
      "cell_type": "code",
      "metadata": {
        "id": "N7nrAxVkqGX7"
      },
      "source": [
        "from sklearn.metrics import mean_squared_error\n",
        "\n",
        "#TODO: Your code goes here."
      ],
      "execution_count": null,
      "outputs": []
    },
    {
      "cell_type": "markdown",
      "metadata": {
        "id": "PjLJ_g0RyJTw"
      },
      "source": [
        ">> **(d)** Say instead of modeling every feature as linear, we think that median home price varies quadratically with median income. Build and train a model that uses this assumption and compare its accuracy/error to the pure linear model. Which model would you choose and why?"
      ]
    },
    {
      "cell_type": "code",
      "metadata": {
        "id": "6E-hTWPHyGHF"
      },
      "source": [
        "#TODO: Your code goes here."
      ],
      "execution_count": null,
      "outputs": []
    },
    {
      "cell_type": "markdown",
      "metadata": {
        "id": "ndIdRReY1Llk"
      },
      "source": [
        "**TODO:** Write your explanation here."
      ]
    },
    {
      "cell_type": "markdown",
      "metadata": {
        "id": "5lb2qRCt1Zqb"
      },
      "source": [
        "## **Problem 2: Logistic Regression**\n",
        "In this problem, you will be building a classification model using linear functions to predict wine quality. \n",
        ">\n",
        "> **Part 1** Let's begin this analysis by assuming we have talked to a wine sommelier about what attributes make a good wine. Our wine sommelier has told us that fixed acidity and alcohol concentration are the primary attributes that differentiate a \"good wine\" from a \"bad wine.\"\n",
        ">\n",
        ">> **(a)** Let's assume that we can classify a \"good wine\" as a quality level of 7 or 8, and a \"bad wine\" has a quality of below 5. Choose an appropriate graph, plot fixed acidity and alcohol concentration of both \"good wines\" and \"bad wines.\" Use the *red_train_df* dataset for these questions."
      ]
    },
    {
      "cell_type": "code",
      "metadata": {
        "id": "3vGHP6jG0kn3"
      },
      "source": [
        "#TODO: Your code goes here."
      ],
      "execution_count": null,
      "outputs": []
    },
    {
      "cell_type": "markdown",
      "metadata": {
        "id": "zsKYA5USn9Zj"
      },
      "source": [
        ">> **(b)** Based on your plot in (a) could you use these features to perfectly delineate between \"good\" and \"bad\" wines? I.e. are these two features [linearly separable](https://en.wikipedia.org/wiki/Linear_separability)?"
      ]
    },
    {
      "cell_type": "markdown",
      "metadata": {
        "id": "xQNMACBXo7Zc"
      },
      "source": [
        "**TODO:** Write your explanation here."
      ]
    },
    {
      "cell_type": "markdown",
      "metadata": {
        "id": "iZcHKs_z03yD"
      },
      "source": [
        ">> **(c)** Do you agree with the wine sommelier in their assessment about these two features? Explain your answer. "
      ]
    },
    {
      "cell_type": "markdown",
      "metadata": {
        "id": "vuunqhzIqNEt"
      },
      "source": [
        "> **Part 2** Now use the [sklearn linear classifier](https://scikit-learn.org/stable/modules/generated/sklearn.linear_model.SGDClassifier.html) to build a linear function to classify wine quality based on all features of the dataset.\n",
        ">\n",
        ">> **(a)** Using a least squares loss function and stocastic gradient descent, fit a linear model to the training data and report accuracy on the test data. Trying running your code multiple times, what happens? Explain your observations."
      ]
    },
    {
      "cell_type": "code",
      "metadata": {
        "id": "K9MGwxg2dTcE"
      },
      "source": [
        "from sklearn.linear_model import SGDClassifier\n",
        "\n",
        "def makeClassifier(dataset, loss_function='squared_loss'):\n",
        "  '''Implement a function that builds your classifier and trains it on the dataset.'''\n",
        "  return model\n",
        "\n",
        "#TODO: Your code goes here."
      ],
      "execution_count": null,
      "outputs": []
    },
    {
      "cell_type": "markdown",
      "metadata": {
        "id": "yHui-wP054x1"
      },
      "source": [
        "**TODO:** Write your explanation here."
      ]
    },
    {
      "cell_type": "markdown",
      "metadata": {
        "id": "Wq9xIlbQ4TRe"
      },
      "source": [
        ">> **(b)** Using a logistic regression loss function and stocastic gradient descent, fit a linear model to the training data and report accuracy on the test data. Do the observations you saw after running your code multiple times in (a) hold for logistic regression? Why or why not."
      ]
    },
    {
      "cell_type": "code",
      "metadata": {
        "id": "Pw538rU9tTNJ"
      },
      "source": [
        "#TODO: Your code goes here."
      ],
      "execution_count": null,
      "outputs": []
    },
    {
      "cell_type": "markdown",
      "metadata": {
        "id": "hj3YPmi657BQ"
      },
      "source": [
        "**TODO:** Write your explanation here."
      ]
    },
    {
      "cell_type": "markdown",
      "metadata": {
        "id": "d19Rk6DBFfKJ"
      },
      "source": [
        ">> **(c)** We learned in class that there are a couple hyperparameters that can be used in stocastic gradient descent. One very important one is learning rate. Using your logistic regression model in (b) vary the learning rate (i.e. *eta0* and set *learning_rate* argument to 'constant'), train the classifier on the training dataset, and use the validation set to choose the best model, and report the accuracy of this model on the testing dataset."
      ]
    },
    {
      "cell_type": "code",
      "metadata": {
        "id": "3RM4dvzgdzsl"
      },
      "source": [
        "def makeClassifierWithLearningRate(dataset, eta0, loss_function='log'):\n",
        "  '''Implement a function that will build and train a logistic\n",
        "  classifier with a specfied constant learning rate, and return that model.'''\n",
        "  return model\n",
        "\n",
        "#TODO: Your code goes here."
      ],
      "execution_count": null,
      "outputs": []
    }
  ]
}