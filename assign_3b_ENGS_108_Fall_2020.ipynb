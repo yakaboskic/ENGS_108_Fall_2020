{
  "nbformat": 4,
  "nbformat_minor": 0,
  "metadata": {
    "colab": {
      "name": "assign_3b_ENGS_108_Fall_2020.ipynb",
      "provenance": [],
      "collapsed_sections": [],
      "toc_visible": true,
      "mount_file_id": "1wPgMja3bmtX-j5MbT0k_nLInc_OabSrt",
      "authorship_tag": "ABX9TyPms/n5/t/dgypGv7rHSVqV",
      "include_colab_link": true
    },
    "kernelspec": {
      "name": "python3",
      "display_name": "Python 3"
    }
  },
  "cells": [
    {
      "cell_type": "markdown",
      "metadata": {
        "id": "view-in-github",
        "colab_type": "text"
      },
      "source": [
        "<a href=\"https://colab.research.google.com/github/yakaboskic/ENGS_108_Fall_2020/blob/course-dev_yakaboskic/assign_3b_ENGS_108_Fall_2020.ipynb\" target=\"_parent\"><img src=\"https://colab.research.google.com/assets/colab-badge.svg\" alt=\"Open In Colab\"/></a>"
      ]
    },
    {
      "cell_type": "markdown",
      "metadata": {
        "id": "W5PUrjJEU8hO"
      },
      "source": [
        "# **ENGS 108 Fall 2020 Assignment 3b**\n",
        "\n",
        "*Due October 7, 2020 at 11:59PM on Canvas*\n",
        "\n",
        "**Instructors:** George Cybenko\n",
        "\n",
        "**TAs:** Chase Yakaboski\n",
        "\n",
        "\n",
        "---\n",
        "\n",
        "## **Rules and Requirements**\n",
        "\n",
        "\n",
        "1.   You are only allowed to use Python packages that are explicity imported in \n",
        "the assignment notebook or are standard (bultin) python libraries like random, os, sys, etc, (Standard Bultin Python libraries will have a Python.org documentation). For this assignment you may use:\n",
        "  *   [numpy](https://numpy.org/doc/stable/)\n",
        "  *   [pandas](https://pandas.pydata.org/pandas-docs/stable/index.html)\n",
        "  *   [scikit-learn](https://scikit-learn.org/stable/)\n",
        "  *   [matplotlib](https://matplotlib.org/)\n",
        "\n",
        "2.   All code must be fit into the designated code or text blocks in the assignment notebook. They are indentified by a **TODO** qualifier.\n",
        "\n",
        "3. For analytical questions that don't require code, type your answer cleanly in Markdown. For help, see the [Google Colab Markdown Guide](https://colab.research.google.com/notebooks/markdown_guide.ipynb).\n",
        "\n",
        "---"
      ]
    },
    {
      "cell_type": "code",
      "metadata": {
        "id": "OdrHPCtpVDtH"
      },
      "source": [
        "''' Import Statements '''\n",
        "import numpy as np\n",
        "import pandas as pd\n",
        "import matplotlib.pyplot as plt\n",
        "import os\n",
        "import copy\n",
        "import pickle"
      ],
      "execution_count": null,
      "outputs": []
    },
    {
      "cell_type": "markdown",
      "metadata": {
        "id": "5jG1AhwJVYk2"
      },
      "source": [
        "## **Data Loading**\n",
        "Upload the red and synthetic datasets to your google colab session using Google Drive. Read the following [tutorial](https://github.com/yakaboskic/ENGS_108_Fall_2020) for how to get setup. "
      ]
    },
    {
      "cell_type": "code",
      "metadata": {
        "id": "oQTIoO0OVKE7"
      },
      "source": [
        "dataset_base_path = '/content/sample_data'\n",
        "\n",
        "#TODO: Set your base datasets path. This is my base path, you will need to change to match yours. \n",
        "dataset_github_path = '/content/drive/My Drive/git/ENGS_108_Fall_2020/datasets'"
      ],
      "execution_count": null,
      "outputs": []
    },
    {
      "cell_type": "code",
      "metadata": {
        "id": "CCljGNUBVdZO"
      },
      "source": [
        "#-- Load Cyrillic Data\n",
        "with open(os.path.join(dataset_github_path, 'cyrillic_data.pk'), 'rb') as f_:\n",
        "  cyrillic, letter_map = pickle.load(f_)"
      ],
      "execution_count": null,
      "outputs": []
    },
    {
      "cell_type": "markdown",
      "metadata": {
        "id": "kxhjjWviPT_8"
      },
      "source": [
        "## **Problem 1: Cyrillic Dataset**\n",
        "In this problem, we will put many of the techniques we've learned together to compare different ways to classify handwritten Russia Cyrillic letters. The dataset has already been converted for you into a numpy array with the first column delineating the letter class as an integer value. A letter_map dictionary provides a simple mapping from these integers to the associated cyrillic character.\n",
        ">\n",
        "> **(a)** Produce a distance matrix between characters using the Hamming distance, where the distance is smallest for characters that are *similar*. "
      ]
    },
    {
      "cell_type": "code",
      "metadata": {
        "id": "uTXeFfY-ezUV"
      },
      "source": [
        "#TODO: Your code goes here."
      ],
      "execution_count": null,
      "outputs": []
    },
    {
      "cell_type": "markdown",
      "metadata": {
        "id": "hxBGbS1TSn1r"
      },
      "source": [
        "> **(b)** Produce a distance matrix between characters using the Hamming distance, where the distance is smallest for characters that are *most different*. "
      ]
    },
    {
      "cell_type": "code",
      "metadata": {
        "id": "BlOstQyGSkfM"
      },
      "source": [
        "#TODO: Your code goes here."
      ],
      "execution_count": null,
      "outputs": []
    },
    {
      "cell_type": "markdown",
      "metadata": {
        "id": "4TPOtQmQTAEj"
      },
      "source": [
        "> **(c)** Build a k-nn classifier for the cyrillic dataset by first shuffling the data and holding out 20% of the data for cross validation. Report your accuracy on this holdout set. "
      ]
    },
    {
      "cell_type": "code",
      "metadata": {
        "id": "1KhVaXdfS2mf"
      },
      "source": [
        "#TODO: Build and train your KNN like we did in HW2."
      ],
      "execution_count": null,
      "outputs": []
    },
    {
      "cell_type": "markdown",
      "metadata": {
        "id": "a6_RpYhyTiDN"
      },
      "source": [
        "> **(d)** Build a decision tree classifier for the cyrillic dataset using the same training and holdout dataset you used in (c). Report your accuracy on this holdout set. "
      ]
    },
    {
      "cell_type": "code",
      "metadata": {
        "id": "882GsxgaTsWE"
      },
      "source": [
        "#TODO: Build and train your Decision Tree like we did in HW2."
      ],
      "execution_count": null,
      "outputs": []
    },
    {
      "cell_type": "markdown",
      "metadata": {
        "id": "_reiMkmOTum0"
      },
      "source": [
        "> **(e)** Build a logistic classifier for the cyrillic dataset using the same training and holdout dataset you used in (c). Report your accuracy on this holdout set. "
      ]
    },
    {
      "cell_type": "code",
      "metadata": {
        "id": "GDim_i-CTysM"
      },
      "source": [
        "#TODO: Build and train your logistic classifier like we did in Problem 2."
      ],
      "execution_count": null,
      "outputs": []
    },
    {
      "cell_type": "markdown",
      "metadata": {
        "id": "00Whp1-pTzo_"
      },
      "source": [
        "> **(f)** Compare all your different models and report which was best and why you think the best performing model worked better than the others. "
      ]
    },
    {
      "cell_type": "markdown",
      "metadata": {
        "id": "mUIOXH-hURr_"
      },
      "source": [
        "**TODO:** Report on your findings. \n",
        "\n"
      ]
    }
  ]
}