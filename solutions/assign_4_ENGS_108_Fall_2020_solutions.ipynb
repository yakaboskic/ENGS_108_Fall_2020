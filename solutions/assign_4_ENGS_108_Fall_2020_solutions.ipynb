{
  "nbformat": 4,
  "nbformat_minor": 0,
  "metadata": {
    "colab": {
      "name": "assign_4_ENGS_108_Fall_2020_solutions.ipynb",
      "provenance": [],
      "collapsed_sections": [],
      "toc_visible": true,
      "mount_file_id": "1EXaYP-OTNO9eltRbwKEkUondRH_HxZgx",
      "authorship_tag": "ABX9TyNComjXs3Or3WzNVECS8L5e",
      "include_colab_link": true
    },
    "kernelspec": {
      "name": "python3",
      "display_name": "Python 3"
    }
  },
  "cells": [
    {
      "cell_type": "markdown",
      "metadata": {
        "id": "view-in-github",
        "colab_type": "text"
      },
      "source": [
        "<a href=\"https://colab.research.google.com/github/yakaboskic/ENGS_108_Fall_2020/blob/master/solutions/assign_4_ENGS_108_Fall_2020_solutions.ipynb\" target=\"_parent\"><img src=\"https://colab.research.google.com/assets/colab-badge.svg\" alt=\"Open In Colab\"/></a>"
      ]
    },
    {
      "cell_type": "markdown",
      "metadata": {
        "id": "5BiHNk7HcRiL"
      },
      "source": [
        "# **ENGS 108 Fall 2020 Assignment 4**\n",
        "\n",
        "*Due October 21, 2020 at 11:59PM on Canvas*\n",
        "\n",
        "**Instructors:** George Cybenko\n",
        "\n",
        "**TAs:** Chase Yakaboski\n",
        "\n",
        "\n",
        "---\n",
        "\n",
        "## **Rules and Requirements**\n",
        "\n",
        "\n",
        "1.   You are only allowed to use Python packages that are explicity imported in \n",
        "the assignment notebook or are standard (bultin) python libraries like random, os, sys, etc, (Standard Bultin Python libraries will have a Python.org documentation). For this assignment you may use:\n",
        "  *   [numpy](https://numpy.org/doc/stable/)\n",
        "  *   [pandas](https://pandas.pydata.org/pandas-docs/stable/index.html)\n",
        "  *   [scikit-learn](https://scikit-learn.org/stable/)\n",
        "  *   [matplotlib](https://matplotlib.org/)\n",
        "  *   [tensorflow](https://www.tensorflow.org/)\n",
        "\n",
        "2.   All code must be fit into the designated code or text blocks in the assignment notebook. They are indentified by a **TODO** qualifier.\n",
        "\n",
        "3. For analytical questions that don't require code, type your answer cleanly in Markdown. For help, see the [Google Colab Markdown Guide](https://colab.research.google.com/notebooks/markdown_guide.ipynb).\n",
        "\n",
        "---"
      ]
    },
    {
      "cell_type": "code",
      "metadata": {
        "id": "_KqjPtWlcFnS"
      },
      "source": [
        "''' Import Statements '''\n",
        "import numpy as np\n",
        "import pandas as pd\n",
        "import tensorflow as tf\n",
        "import matplotlib.pyplot as plt\n",
        "import os\n",
        "import copy\n",
        "import pickle\n",
        "import tqdm"
      ],
      "execution_count": 1,
      "outputs": []
    },
    {
      "cell_type": "markdown",
      "metadata": {
        "id": "SwDQkydPckQx"
      },
      "source": [
        "## **Data Loading**"
      ]
    },
    {
      "cell_type": "code",
      "metadata": {
        "id": "Dk-tVmSXco2Y"
      },
      "source": [
        "dataset_base_path = '/content/sample_data'\n",
        "\n",
        "#TODO: Set your base datasets path. This is my base path, you will need to change to match yours. \n",
        "dataset_github_path = '/content/drive/My Drive/git/ENGS_108_Fall_2020/datasets'"
      ],
      "execution_count": 2,
      "outputs": []
    },
    {
      "cell_type": "code",
      "metadata": {
        "id": "_duATmD4cvjb"
      },
      "source": [
        "#-- Load circles dataset, format is X, y where X is a 2 dimensional coordinate and y is the label.\n",
        "with open(os.path.join(dataset_github_path, 'circles.pk'), 'rb') as f_:\n",
        "  circles = pickle.load(f_)"
      ],
      "execution_count": 3,
      "outputs": []
    },
    {
      "cell_type": "markdown",
      "metadata": {
        "id": "0otRQ4_CcxP4"
      },
      "source": [
        "## **Problem 1: Support Vector Machines**\n",
        "In this problem, you will be building a support vector machines to for both regression and classification tasks.\n",
        ">\n",
        "> **Part 1** In this part we will be exploring the *circles* dataset. In this dataset you will have an $X$ array of 2 dimensional samples of the form $(x_1, x_2)$ and a $y$ array of each samples associated label. \n",
        ">> **(a)** Go through the circles dataset and create a scatterplot of the circles data using the y label of each samples color to designate their respective class."
      ]
    },
    {
      "cell_type": "code",
      "metadata": {
        "id": "r0x9dZvokiNb"
      },
      "source": [
        "X, y = circles\n",
        "#TODO: Your code goes here."
      ],
      "execution_count": 5,
      "outputs": []
    },
    {
      "cell_type": "code",
      "metadata": {
        "id": "1thFpJkLlJQb",
        "outputId": "993bb61e-fd3a-4b4f-c429-6a240607a4f6",
        "colab": {
          "base_uri": "https://localhost:8080/",
          "height": 282
        }
      },
      "source": [
        "X_class_0 = np.squeeze(X[np.argwhere(y==0), :], axis=1)\n",
        "X_class_1 = np.squeeze(X[np.argwhere(y==1), :], axis=1)\n",
        "fig, ax = plt.subplots()\n",
        "ax.scatter(X_class_0[:,0], X_class_0[:,1])\n",
        "ax.scatter(X_class_1[:,0], X_class_1[:,1])"
      ],
      "execution_count": 6,
      "outputs": [
        {
          "output_type": "execute_result",
          "data": {
            "text/plain": [
              "<matplotlib.collections.PathCollection at 0x7f1759f72518>"
            ]
          },
          "metadata": {
            "tags": []
          },
          "execution_count": 6
        },
        {
          "output_type": "display_data",
          "data": {
            "image/png": "[encoded data removed]",
            "text/plain": [
              "<Figure size 432x288 with 1 Axes>"
            ]
          },
          "metadata": {
            "tags": [],
            "needs_background": "light"
          }
        }
      ]
    },
    {
      "cell_type": "markdown",
      "metadata": {
        "id": "jgvLE0AkmY25"
      },
      "source": [
        ">> **(b)** Is this dataset linearly seperable? Explain why or why not?"
      ]
    },
    {
      "cell_type": "markdown",
      "metadata": {
        "id": "oeENaqJ1mj7w"
      },
      "source": [
        "**TODO:** Your answer should go here."
      ]
    },
    {
      "cell_type": "markdown",
      "metadata": {
        "id": "SBAas421mrJO"
      },
      "source": [
        "**Answer:** The dataset is not linearly seperable, because the classes can not be seperate by a 2 dimensional linear boundary."
      ]
    },
    {
      "cell_type": "markdown",
      "metadata": {
        "id": "rEdDW9SFm8iQ"
      },
      "source": [
        ">> **(c)** Can you think of a transformation of the dataset that could make the dataset linearly seperable? If so, define what these transformation function(s) might look like, and if not explain why. *Hint: Think of a higher dimensional space.*"
      ]
    },
    {
      "cell_type": "markdown",
      "metadata": {
        "id": "VYglGeG2nb0J"
      },
      "source": [
        "**TODO:** Your answer should go here."
      ]
    },
    {
      "cell_type": "markdown",
      "metadata": {
        "id": "NCXHQLvqnex5"
      },
      "source": [
        "**Answer1:** Yes, you can transform this dataset by embedding it into a 3 dimensional feature space where these new features are:\n",
        "$$f_1 = x_1^2$$\n",
        "$$f_2 = x_2^2$$\n",
        "$$f_3 = \\sqrt{2}x_1x_2$$"
      ]
    },
    {
      "cell_type": "markdown",
      "metadata": {
        "id": "5SXEwumcAQoN"
      },
      "source": [
        "**Answer2:** Yes, you can transform this dataset by embedding it into a 3 dimensional feature space where these new features are:\n",
        "$$f_1 = x_1$$\n",
        "$$f_2 = x_2$$\n",
        "$$f_3 = x_1 ^2 + x^2_2$$"
      ]
    },
    {
      "cell_type": "markdown",
      "metadata": {
        "id": "Ju6WgDvvoHm1"
      },
      "source": [
        ">> **(d)** If you where able to find a transformation in (c), create a suitable graph showing the dataset is linearly seperable in this new feature space."
      ]
    },
    {
      "cell_type": "code",
      "metadata": {
        "id": "RRj9ixOMoFck"
      },
      "source": [
        "#TODO: Your code goes here."
      ],
      "execution_count": 7,
      "outputs": []
    },
    {
      "cell_type": "code",
      "metadata": {
        "id": "B_A5O0K1lNRD",
        "outputId": "9415c558-702b-4f29-b219-f84815964ee1",
        "colab": {
          "base_uri": "https://localhost:8080/",
          "height": 265
        }
      },
      "source": [
        "f_1 = X[:,0]**2\n",
        "f_2 = X[:,1]**2\n",
        "f_3 = np.sqrt(2) * X[:,0] * X[:,1]\n",
        "\n",
        "#-- Seperate them out for graphing\n",
        "f_1_class_0 = f_1[np.argwhere(y==0)]\n",
        "f_2_class_0 = f_2[np.argwhere(y==0)]\n",
        "f_3_class_0 = f_3[np.argwhere(y==0)]\n",
        "f_1_class_1 = f_1[np.argwhere(y==1)]\n",
        "f_2_class_1 = f_2[np.argwhere(y==1)]\n",
        "f_3_class_1 = f_3[np.argwhere(y==1)]\n",
        "\n",
        "#-- Make Graph\n",
        "fig = plt.figure()\n",
        "ax = fig.add_subplot(projection='3d')\n",
        "ax.scatter(f_1_class_0, f_2_class_0, f_3_class_0)\n",
        "ax.scatter(f_1_class_1, f_2_class_1, f_3_class_1)\n",
        "\n",
        "# The data may not be 100% linearly seperable but I think it's something like 99.9%. Close enough."
      ],
      "execution_count": 8,
      "outputs": [
        {
          "output_type": "execute_result",
          "data": {
            "text/plain": [
              "<mpl_toolkits.mplot3d.art3d.Path3DCollection at 0x7f1759a4dcf8>"
            ]
          },
          "metadata": {
            "tags": []
          },
          "execution_count": 8
        },
        {
          "output_type": "display_data",
          "data": {
            "image/png": "[encoded data removed]",
            "text/plain": [
              "<Figure size 432x288 with 1 Axes>"
            ]
          },
          "metadata": {
            "tags": [],
            "needs_background": "light"
          }
        }
      ]
    },
    {
      "cell_type": "markdown",
      "metadata": {
        "id": "mrkyLWLmqf03"
      },
      "source": [
        "The classes can now be seperated by a 2 dimensional plane."
      ]
    },
    {
      "cell_type": "markdown",
      "metadata": {
        "id": "D2_By96Aqn1r"
      },
      "source": [
        "> **Part 2** What we accomplished in Part 1 is known as the kernel trick for SVMs. Now let's focus on how we can use this idea to accomplish non-linear classification on a real world dataset. In this next part and throughout the remainder of the assignment we will be using a food image dataset. These images are RGB images of many pixels. \n",
        ">> **(a)** You have been given a number of code skeletons throughout the course all of which load and preprocess the data for you. In this excerise tho, we will be doing the data loading manually as it is an important skill to learn. Write some code that will walk through the *ExampleFoodImageDataset* directory structure and build a single large numpy array with all image features flattened into a large vector (Make sure to resize the image to something like (28, 28) or (32, 32), etc.) the first column being a integer id for the class. *Hint: You have been provided with a basic skeleton, study the operations of the code and finish the script.*"
      ]
    },
    {
      "cell_type": "code",
      "metadata": {
        "id": "jbPRTcGMozJR",
        "outputId": "c68aced4-bd89-4b58-ab1f-688e735e63fb",
        "colab": {
          "base_uri": "https://localhost:8080/",
          "height": 128
        }
      },
      "source": [
        "from PIL import Image\n",
        "\n",
        "#-- The dimensions of the resized image\n",
        "RESIZE = (28,28)\n",
        "#-- A map from integer ids to food categories (strings)\n",
        "food_map = {}\n",
        "#-- The data list that we will be filling in.\n",
        "data = []\n",
        "#-- The folder that the food images are in\n",
        "folder = os.path.join(dataset_github_path, 'ExampleFoodImageDataset')\n",
        "\n",
        "#-- Let's start our for loop (Just using tqdm to give us a pretty progress bar).\n",
        "for idx, subfold in enumerate(tqdm.tqdm(os.listdir(folder), desc='Processing images', leave=False)):                                                                             \n",
        "  if os.path.isdir(os.path.join(folder, subfold)):\n",
        "    #-- We have found image class folder so let's extract all example data\n",
        "    map_[idx] = subfold\n",
        "    for img_name in os.listdir(os.path.join(folder, subfold)):\n",
        "      #-- Make sure the file is an image\n",
        "      if img_name.endswith('.jpg'):\n",
        "        #TODO: You do this part. Use the Image class from PIL to load the image and cast it into a np array.\n",
        "        #TODO: Then make sure to resize the image (otherwise things will take awhile)\n",
        "\n",
        "data = np.array(data)"
      ],
      "execution_count": 9,
      "outputs": [
        {
          "output_type": "error",
          "ename": "IndentationError",
          "evalue": "ignored",
          "traceback": [
            "\u001b[0;36m  File \u001b[0;32m\"<ipython-input-9-5fc3697af0d0>\"\u001b[0;36m, line \u001b[0;32m23\u001b[0m\n\u001b[0;31m    data = np.array(data)\u001b[0m\n\u001b[0m                         ^\u001b[0m\n\u001b[0;31mIndentationError\u001b[0m\u001b[0;31m:\u001b[0m expected an indented block\n"
          ]
        }
      ]
    },
    {
      "cell_type": "code",
      "metadata": {
        "id": "av41j73jzbBV",
        "outputId": "1b18d1cd-212a-4e07-d583-f167a7d60795",
        "colab": {
          "base_uri": "https://localhost:8080/"
        }
      },
      "source": [
        "from PIL import Image\n",
        "\n",
        "#-- Resize dimensions (DON'T FORGET TO RESIZE THE IMAGE)\n",
        "RESIZE = (28,28)\n",
        "#-- A map from integer ids to food categories (strings)\n",
        "food_map = {}\n",
        "#-- The data list that we will be filling in.\n",
        "data = []\n",
        "#-- The folder that the food images are in\n",
        "folder = os.path.join(dataset_github_path, 'ExampleFoodImageDataset')\n",
        "\n",
        "#-- Let's start our for loop (Just using tqdm to give us a pretty progress bar).\n",
        "for idx, subfold in enumerate(tqdm.tqdm(os.listdir(folder), desc='Processing images', leave=False)):                                                                             \n",
        "  if os.path.isdir(os.path.join(folder, subfold)):\n",
        "    #-- We have found image class folder so let's extract all example data\n",
        "    food_map[idx] = subfold\n",
        "    for img_name in os.listdir(os.path.join(folder, subfold)):\n",
        "      #-- Make sure the file is an image\n",
        "      if img_name.endswith('.jpg'):\n",
        "        #TODO: You do this part. Use the Image class from PIL to load the image and cast into a np array.\n",
        "        img_path = os.path.join(folder, subfold, img_name)\n",
        "        img_array = np.array(Image.open(img_path).resize(RESIZE))\n",
        "        img_array = img_array.flatten()\n",
        "        img_array = np.insert(img_array, 0, idx)\n",
        "        data.append(img_array)\n",
        "\n",
        "data = np.array(data)"
      ],
      "execution_count": 11,
      "outputs": [
        {
          "output_type": "stream",
          "text": [
            ""
          ],
          "name": "stderr"
        }
      ]
    },
    {
      "cell_type": "markdown",
      "metadata": {
        "id": "qADfvsX72Cv3"
      },
      "source": [
        ">> **(b)** Split your dataset into training and testing sets with an 80/20 split. *Hint: Look at Sklearn's train_test_split function.* Then implement a SVM classifer and report your accuracy on the testing dataset."
      ]
    },
    {
      "cell_type": "code",
      "metadata": {
        "id": "jKe1O14izgqt"
      },
      "source": [
        "#TODO: Your code goes here."
      ],
      "execution_count": null,
      "outputs": []
    },
    {
      "cell_type": "code",
      "metadata": {
        "id": "s33ivkus0r5y"
      },
      "source": [
        "from sklearn.svm import SVC\n",
        "from sklearn.model_selection import train_test_split\n",
        "\n",
        "X = data[:,1:]\n",
        "y = data[:,0]\n",
        "\n",
        "X_train, X_test, y_train, y_test = train_test_split(X, y, test_size=.2, shuffle=True)"
      ],
      "execution_count": 12,
      "outputs": []
    },
    {
      "cell_type": "code",
      "metadata": {
        "id": "m610KP4n3TAA",
        "outputId": "2465a19e-8d11-4cb5-80f8-4f2e37bdf760",
        "colab": {
          "base_uri": "https://localhost:8080/"
        }
      },
      "source": [
        "svcModel = SVC()\n",
        "svcModel.fit(X_train, y_train)\n",
        "print('Model accuracy: {}'.format(svcModel.score(X_test, y_test)))"
      ],
      "execution_count": 13,
      "outputs": [
        {
          "output_type": "stream",
          "text": [
            "Model accuracy: 0.47959183673469385\n"
          ],
          "name": "stdout"
        }
      ]
    },
    {
      "cell_type": "markdown",
      "metadata": {
        "id": "87teUag73uZQ"
      },
      "source": [
        ">> **(c)** Choose a 2 hyperparameters to study and experiment with. Can you make an SVM that has better accuracy then just using the defaults?"
      ]
    },
    {
      "cell_type": "code",
      "metadata": {
        "id": "gp1HpNC_4h4u"
      },
      "source": [
        "#TODO: Your code goes here."
      ],
      "execution_count": null,
      "outputs": []
    },
    {
      "cell_type": "code",
      "metadata": {
        "id": "g85osZ0j3YCY",
        "outputId": "b3301b72-00e7-4f23-8568-91e6507ef218",
        "colab": {
          "base_uri": "https://localhost:8080/"
        }
      },
      "source": [
        "# Possible solution: Check to make sure students met requirements.\n",
        "res = []\n",
        "for kernel in ['linear', 'poly', 'rbf', 'sigmoid']:\n",
        "  for C in np.linspace(.2, 3, num=4):\n",
        "    model_ = SVC(C=C, kernel=kernel)\n",
        "    model_.fit(X_train, y_train)\n",
        "    res.append((model_.score(X_test, y_test), kernel, C))\n",
        "print(res)"
      ],
      "execution_count": 14,
      "outputs": [
        {
          "output_type": "stream",
          "text": [
            "[(0.42857142857142855, 'linear', 0.2), (0.42857142857142855, 'linear', 1.1333333333333333), (0.42857142857142855, 'linear', 2.0666666666666664), (0.42857142857142855, 'linear', 3.0), (0.5, 'poly', 0.2), (0.5204081632653061, 'poly', 1.1333333333333333), (0.5255102040816326, 'poly', 2.0666666666666664), (0.5306122448979592, 'poly', 3.0), (0.336734693877551, 'rbf', 0.2), (0.49489795918367346, 'rbf', 1.1333333333333333), (0.5408163265306123, 'rbf', 2.0666666666666664), (0.5510204081632653, 'rbf', 3.0), (0.2755102040816326, 'sigmoid', 0.2), (0.27040816326530615, 'sigmoid', 1.1333333333333333), (0.23979591836734693, 'sigmoid', 2.0666666666666664), (0.23979591836734693, 'sigmoid', 3.0)]\n"
          ],
          "name": "stdout"
        }
      ]
    },
    {
      "cell_type": "markdown",
      "metadata": {
        "id": "rVxn8HdM5TcW"
      },
      "source": [
        "## **Problem 2: Introduction to TensorFlow**\n",
        "In this problem, we will start working in tensorflow to build deep learning systems starting with fully connected neural networks. We will focus on using the food image dataset we built in the last problem.\n",
        ">\n",
        "> **(a)** Using the food image dataset we built in the last problem, build a [tensorflow Data Dataset](https://www.tensorflow.org/api_docs/python/tf/data/Dataset) that is shuffled with a batch size of 10. *Hint: We did this in class.*"
      ]
    },
    {
      "cell_type": "code",
      "metadata": {
        "id": "dBdJhl5w6j_G"
      },
      "source": [
        "#TODO: Your code goes here."
      ],
      "execution_count": null,
      "outputs": []
    },
    {
      "cell_type": "code",
      "metadata": {
        "id": "8hI6_DhT42DO"
      },
      "source": [
        "train_dataset = tf.data.Dataset.from_tensor_slices((X_train, y_train))\n",
        "test_dataset = tf.data.Dataset.from_tensor_slices((X_test, y_test))"
      ],
      "execution_count": 15,
      "outputs": []
    },
    {
      "cell_type": "code",
      "metadata": {
        "id": "Eq__E5TM6tsc"
      },
      "source": [
        "BATCH_SIZE = 10\n",
        "SHUFFLE_BUFFER_SIZE = 100\n",
        "\n",
        "train_dataset = train_dataset.shuffle(SHUFFLE_BUFFER_SIZE).batch(BATCH_SIZE)\n",
        "test_dataset = test_dataset.batch(BATCH_SIZE)"
      ],
      "execution_count": 16,
      "outputs": []
    },
    {
      "cell_type": "markdown",
      "metadata": {
        "id": "SX3A4fbs67fV"
      },
      "source": [
        "> **(b)** Build a two layer fully connected neural network of any size with a ReLu activation function and a final softmax layer."
      ]
    },
    {
      "cell_type": "code",
      "metadata": {
        "id": "Q9LRLfCx76pH"
      },
      "source": [
        "#TODO: Your code goes here."
      ],
      "execution_count": null,
      "outputs": []
    },
    {
      "cell_type": "code",
      "metadata": {
        "id": "S6aa6rFq619t"
      },
      "source": [
        "# Possible solution. Number of units may differ.\n",
        "fc = tf.keras.Sequential(\n",
        "    [\n",
        "     tf.keras.layers.Dense(128, activation='relu'),\n",
        "     tf.keras.layers.Dense(64, activation='relu'),\n",
        "     tf.keras.layers.Dense(9)\n",
        "    ]\n",
        ")"
      ],
      "execution_count": 17,
      "outputs": []
    },
    {
      "cell_type": "markdown",
      "metadata": {
        "id": "J8F3cCyv7dqW"
      },
      "source": [
        "> **(c)** Compile your model with an appropriate loss function and optimizer. Briefly describe your choices."
      ]
    },
    {
      "cell_type": "code",
      "metadata": {
        "id": "a1HVghoH7_sV"
      },
      "source": [
        "#TODO: Your code goes here."
      ],
      "execution_count": null,
      "outputs": []
    },
    {
      "cell_type": "code",
      "metadata": {
        "id": "ykaDUiA77axm"
      },
      "source": [
        "# Possible solution: Choice of optimizer may differ.\n",
        "fc.compile(optimizer=tf.keras.optimizers.Adam(),\n",
        "           loss=tf.keras.losses.SparseCategoricalCrossentropy(from_logits=True),\n",
        "           metrics = [tf.keras.metrics.SparseCategoricalAccuracy()])"
      ],
      "execution_count": 18,
      "outputs": []
    },
    {
      "cell_type": "markdown",
      "metadata": {
        "id": "lMlYa9Q774fc"
      },
      "source": [
        "> **(d)** Train your model on the food image training dataset. And report your accuracy on the testing dataset."
      ]
    },
    {
      "cell_type": "code",
      "metadata": {
        "id": "oNAa8bsO9jy8"
      },
      "source": [
        "#TODO: Your code goes here."
      ],
      "execution_count": null,
      "outputs": []
    },
    {
      "cell_type": "code",
      "metadata": {
        "id": "6GHYUk8h7yak",
        "outputId": "8a38e0d8-b8af-49dc-e3c7-f245367b78ed",
        "colab": {
          "base_uri": "https://localhost:8080/"
        }
      },
      "source": [
        "# May train for more or less than 30 epochs.\n",
        "fc.fit(train_dataset, epochs=30)\n",
        "fc.evaluate(test_dataset)"
      ],
      "execution_count": 19,
      "outputs": [
        {
          "output_type": "stream",
          "text": [
            "Epoch 1/30\n",
            "79/79 [==============================] - 0s 2ms/step - loss: 68.4832 - sparse_categorical_accuracy: 0.2506\n",
            "Epoch 2/30\n",
            "79/79 [==============================] - 0s 3ms/step - loss: 26.4322 - sparse_categorical_accuracy: 0.2903\n",
            "Epoch 3/30\n",
            "79/79 [==============================] - 0s 2ms/step - loss: 18.3683 - sparse_categorical_accuracy: 0.3312\n",
            "Epoch 4/30\n",
            "79/79 [==============================] - 0s 2ms/step - loss: 18.9089 - sparse_categorical_accuracy: 0.2903\n",
            "Epoch 5/30\n",
            "79/79 [==============================] - 0s 2ms/step - loss: 10.3001 - sparse_categorical_accuracy: 0.3798\n",
            "Epoch 6/30\n",
            "79/79 [==============================] - 0s 2ms/step - loss: 13.1108 - sparse_categorical_accuracy: 0.3632\n",
            "Epoch 7/30\n",
            "79/79 [==============================] - 0s 2ms/step - loss: 7.5736 - sparse_categorical_accuracy: 0.4092\n",
            "Epoch 8/30\n",
            "79/79 [==============================] - 0s 2ms/step - loss: 7.6172 - sparse_categorical_accuracy: 0.3529\n",
            "Epoch 9/30\n",
            "79/79 [==============================] - 0s 3ms/step - loss: 5.2566 - sparse_categorical_accuracy: 0.3453\n",
            "Epoch 10/30\n",
            "79/79 [==============================] - 0s 2ms/step - loss: 4.2791 - sparse_categorical_accuracy: 0.3645\n",
            "Epoch 11/30\n",
            "79/79 [==============================] - 0s 2ms/step - loss: 2.6485 - sparse_categorical_accuracy: 0.3146\n",
            "Epoch 12/30\n",
            "79/79 [==============================] - 0s 2ms/step - loss: 2.0055 - sparse_categorical_accuracy: 0.2724\n",
            "Epoch 13/30\n",
            "79/79 [==============================] - 0s 3ms/step - loss: 1.9195 - sparse_categorical_accuracy: 0.3095\n",
            "Epoch 14/30\n",
            "79/79 [==============================] - 0s 2ms/step - loss: 1.9268 - sparse_categorical_accuracy: 0.3197\n",
            "Epoch 15/30\n",
            "79/79 [==============================] - 0s 2ms/step - loss: 2.0896 - sparse_categorical_accuracy: 0.2379\n",
            "Epoch 16/30\n",
            "79/79 [==============================] - 0s 2ms/step - loss: 2.0209 - sparse_categorical_accuracy: 0.2992\n",
            "Epoch 17/30\n",
            "79/79 [==============================] - 0s 2ms/step - loss: 1.9763 - sparse_categorical_accuracy: 0.3082\n",
            "Epoch 18/30\n",
            "79/79 [==============================] - 0s 3ms/step - loss: 1.9294 - sparse_categorical_accuracy: 0.3223\n",
            "Epoch 19/30\n",
            "79/79 [==============================] - 0s 2ms/step - loss: 1.9415 - sparse_categorical_accuracy: 0.3389\n",
            "Epoch 20/30\n",
            "79/79 [==============================] - 0s 2ms/step - loss: 1.9032 - sparse_categorical_accuracy: 0.3235\n",
            "Epoch 21/30\n",
            "79/79 [==============================] - 0s 2ms/step - loss: 1.9058 - sparse_categorical_accuracy: 0.3274\n",
            "Epoch 22/30\n",
            "79/79 [==============================] - 0s 2ms/step - loss: 1.8875 - sparse_categorical_accuracy: 0.3223\n",
            "Epoch 23/30\n",
            "79/79 [==============================] - 0s 3ms/step - loss: 1.8574 - sparse_categorical_accuracy: 0.3312\n",
            "Epoch 24/30\n",
            "79/79 [==============================] - 0s 3ms/step - loss: 1.8436 - sparse_categorical_accuracy: 0.3286\n",
            "Epoch 25/30\n",
            "79/79 [==============================] - 0s 2ms/step - loss: 1.8112 - sparse_categorical_accuracy: 0.3414\n",
            "Epoch 26/30\n",
            "79/79 [==============================] - 0s 2ms/step - loss: 1.7967 - sparse_categorical_accuracy: 0.3299\n",
            "Epoch 27/30\n",
            "79/79 [==============================] - 0s 3ms/step - loss: 1.8219 - sparse_categorical_accuracy: 0.3286\n",
            "Epoch 28/30\n",
            "79/79 [==============================] - 0s 3ms/step - loss: 1.7796 - sparse_categorical_accuracy: 0.3107\n",
            "Epoch 29/30\n",
            "79/79 [==============================] - 0s 2ms/step - loss: 1.7865 - sparse_categorical_accuracy: 0.3376\n",
            "Epoch 30/30\n",
            "79/79 [==============================] - 0s 3ms/step - loss: 1.8181 - sparse_categorical_accuracy: 0.3120\n",
            "20/20 [==============================] - 0s 1ms/step - loss: 1.8481 - sparse_categorical_accuracy: 0.2755\n"
          ],
          "name": "stdout"
        },
        {
          "output_type": "execute_result",
          "data": {
            "text/plain": [
              "[1.8481301069259644, 0.27551019191741943]"
            ]
          },
          "metadata": {
            "tags": []
          },
          "execution_count": 19
        }
      ]
    },
    {
      "cell_type": "markdown",
      "metadata": {
        "id": "5c50PwpT9sO4"
      },
      "source": [
        "> **(e)** Now try to tune this network by varying the number of layers, units, activations and see if you can outperform the network in part (d). Does your best model perform better or worse than the SVM in problem 1?"
      ]
    },
    {
      "cell_type": "code",
      "metadata": {
        "id": "Sz9IiBaF8gb1"
      },
      "source": [
        "# Make sure they met the requirements of the question."
      ],
      "execution_count": null,
      "outputs": []
    },
    {
      "cell_type": "markdown",
      "metadata": {
        "id": "C2Ozegh2-MAX"
      },
      "source": [
        "> **(BONUS)** We lost a lot of information when we resized the images in part (a). What would happen if we didn't resize the images and we built fit the neural network with all this other information? Try it out! *Hint: Runtime will be much longer, both to create the image dataset without resizing and to train the model, so you might have to get the code working and then just let it run.*"
      ]
    },
    {
      "cell_type": "code",
      "metadata": {
        "id": "2qxOwzDD-KjU"
      },
      "source": [
        "# If they implemented a padding strategy (+10)\n",
        "# If they implemented a strategy were they reduced all images to the size of the smallest image in the set (+5)\n",
        "# Other strategies, grader should use they're judgement. max: +10."
      ],
      "execution_count": null,
      "outputs": []
    }
  ]
}