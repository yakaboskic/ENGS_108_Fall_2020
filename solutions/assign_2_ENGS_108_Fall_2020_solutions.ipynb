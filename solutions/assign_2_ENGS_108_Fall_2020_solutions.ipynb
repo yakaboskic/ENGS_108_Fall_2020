{
  "nbformat": 4,
  "nbformat_minor": 0,
  "metadata": {
    "colab": {
      "name": "assign_2_ENGS_108_Fall_2020_solutions.ipynb",
      "provenance": [],
      "collapsed_sections": [],
      "toc_visible": true,
      "mount_file_id": "13OEsy-gaMDO3qN57aKEClRYtlv4IQj7N",
      "authorship_tag": "ABX9TyO0lIPWw5YWerOjeWsoFoJh",
      "include_colab_link": true
    },
    "kernelspec": {
      "name": "python3",
      "display_name": "Python 3"
    }
  },
  "cells": [
    {
      "cell_type": "markdown",
      "metadata": {
        "id": "view-in-github",
        "colab_type": "text"
      },
      "source": [
        "<a href=\"https://colab.research.google.com/github/yakaboskic/ENGS_108_Fall_2020/blob/master/solutions/assign_2_ENGS_108_Fall_2020_solutions.ipynb\" target=\"_parent\"><img src=\"https://colab.research.google.com/assets/colab-badge.svg\" alt=\"Open In Colab\"/></a>"
      ]
    },
    {
      "cell_type": "markdown",
      "metadata": {
        "id": "Dd0qJjGWPDEY"
      },
      "source": [
        "# **ENGS 108 Fall 2020 Assignment 2 Solutions**\n",
        "\n",
        "*Due September 28, 2020 at 11:59PM on Canvas*\n",
        "\n",
        "**Instructors:** George Cybenko\n",
        "\n",
        "**TAs:** Chase Yakaboski\n",
        "\n",
        "\n",
        "---\n",
        "\n",
        "## **Rules and Requirements**\n",
        "\n",
        "\n",
        "1.   You are only allowed to use Python packages that are explicity imported in \n",
        "the assignment notebook or are standard (bultin) python libraries like random, os, sys, etc, (Standard Bultin Python libraries will have a Python.org documentation). For this assignment you may use:\n",
        "  *   [numpy](https://numpy.org/doc/stable/)\n",
        "  *   [pandas](https://pandas.pydata.org/pandas-docs/stable/index.html)\n",
        "  *   [scikit-learn](https://scikit-learn.org/stable/)\n",
        "  *   [matplotlib](https://matplotlib.org/)\n",
        "\n",
        "2.   All code must be fit into the designated code or text blocks in the assignment notebook. They are indentified by a **TODO** qualifier.\n",
        "\n",
        "3. For analytical questions that don't require code, type your answer cleanly in Markdown. For help, see the [Google Colab Markdown Guide](https://colab.research.google.com/notebooks/markdown_guide.ipynb).\n",
        "\n",
        "---\n"
      ]
    },
    {
      "cell_type": "code",
      "metadata": {
        "id": "AD5eAz9acxe9"
      },
      "source": [
        "''' Import Statements '''\n",
        "import numpy as np\n",
        "import pandas as pd\n",
        "import sklearn\n",
        "import matplotlib.pyplot as plt\n",
        "import math"
      ],
      "execution_count": 1,
      "outputs": []
    },
    {
      "cell_type": "markdown",
      "metadata": {
        "id": "aFcqjf9VXHfF"
      },
      "source": [
        "# **Data Loading**\n",
        "Upload the red and synthetic datasets to your google colab session using Google Drive. Read the following [tutorial](https://github.com/yakaboskic/ENGS_108_Fall_2020) for how to get setup. "
      ]
    },
    {
      "cell_type": "code",
      "metadata": {
        "id": "gSQSg2HkXaHF"
      },
      "source": [
        "#TODO: Set your base datasets path. This is my base path, you will need to change to match yours. \n",
        "dataset_base_path = '/content/drive/My Drive/git/ENGS_108_Fall_2020/datasets'"
      ],
      "execution_count": 2,
      "outputs": []
    },
    {
      "cell_type": "code",
      "metadata": {
        "id": "-r2Nya5yV3hW"
      },
      "source": [
        "#-- Everything else you should not need to change.\n",
        "import os\n",
        "import pickle\n",
        "\n",
        "#-- Gather paths\n",
        "synth_data_path = os.path.join(dataset_base_path, 'assign_2_synth_data.pk')\n",
        "red_train_path = os.path.join(dataset_base_path, 'red_train.csv')\n",
        "red_valid_path = os.path.join(dataset_base_path, 'red_valid.csv')\n",
        "red_test_path = os.path.join(dataset_base_path, 'red_test.csv')\n",
        "synth_train_path = os.path.join(dataset_base_path, 'synth_train.csv')\n",
        "synth_valid_path = os.path.join(dataset_base_path, 'synth_valid.csv')\n",
        "synth_test_path = os.path.join(dataset_base_path, 'synth_test.csv')\n",
        "\n",
        "#-- Load Synth_Data\n",
        "with open(synth_data_path, 'rb') as f_:\n",
        "  synth_data = pickle.load(f_)\n",
        "\n",
        "#-- Load Red Wine Data\n",
        "red_train_df = pd.read_csv(red_train_path)\n",
        "red_valid_df = pd.read_csv(red_valid_path)\n",
        "red_test_df = pd.read_csv(red_test_path)\n",
        "synth_train_df = pd.read_csv(synth_train_path)\n",
        "synth_valid_df = pd.read_csv(synth_valid_path)\n",
        "synth_test_df = pd.read_csv(synth_test_path)\n",
        "\n",
        "#-- Data is stored in a tuple of format (X, y) and are already converted to numpy arrays.\n",
        "red_train = (red_train_df.drop('quality', axis=1).to_numpy(), red_train_df['quality'].to_numpy())\n",
        "red_valid = (red_valid_df.drop('quality', axis=1).to_numpy(), red_valid_df['quality'].to_numpy())\n",
        "red_test = (red_test_df.drop('quality', axis=1).to_numpy(), red_test_df['quality'].to_numpy())\n",
        "\n",
        "#-- Load in Synth train, valid, test data with tuple format (X, y)\n",
        "synth_train = (synth_train_df.drop('y', axis=1).to_numpy(), synth_train_df['y'].to_numpy())\n",
        "synth_valid = (synth_valid_df.drop('y', axis=1).to_numpy(), synth_valid_df['y'].to_numpy())\n",
        "synth_test = (synth_test_df.drop('y', axis=1).to_numpy(), synth_test_df['y'].to_numpy())"
      ],
      "execution_count": 3,
      "outputs": []
    },
    {
      "cell_type": "markdown",
      "metadata": {
        "id": "mty9AB1bd5hH"
      },
      "source": [
        "## **Problem 1: $K$-Means Clustering**\n",
        "In this problem, you will solve a clustering\n",
        "task using the k-means algorithm and an associated classification task using $k$ nearest neighbors algorithm, both of which you learned in class. The dataset for this problem is a synthetic two-dimensional dataset *synth_data*. Each entry has two features $(x_1, x_2)$.\n",
        ">\n",
        "> **Part 1** A reasonable first step in every machine learning task is to understand the dataset at hand. Proceed to explore this problem’s dataset by addressing the following:\n",
        ">> **(a)** Choose a suitable type of plot and visualize the training data."
      ]
    },
    {
      "cell_type": "code",
      "metadata": {
        "id": "zA0BN4jbfHe5",
        "outputId": "550a8e4d-a961-4c4e-d417-76236f50a4b4",
        "colab": {
          "base_uri": "https://localhost:8080/",
          "height": 283
        }
      },
      "source": [
        "plt.scatter(synth_data[:,0], synth_data[:,1])"
      ],
      "execution_count": 4,
      "outputs": [
        {
          "output_type": "execute_result",
          "data": {
            "text/plain": [
              "<matplotlib.collections.PathCollection at 0x7f348bff57b8>"
            ]
          },
          "metadata": {
            "tags": []
          },
          "execution_count": 4
        },
        {
          "output_type": "display_data",
          "data": {
            "image/png": "[encoded data removed]",
            "text/plain": [
              "<Figure size 432x288 with 1 Axes>"
            ]
          },
          "metadata": {
            "tags": [],
            "needs_background": "light"
          }
        }
      ]
    },
    {
      "cell_type": "markdown",
      "metadata": {
        "id": "T_Ln5qixfHwt"
      },
      "source": [
        ">> **(b)** From your plot, how many clusters, $k$, would you estimate are represented in the dataset?"
      ]
    },
    {
      "cell_type": "markdown",
      "metadata": {
        "id": "SbT6Ux7HZ-zK"
      },
      "source": [
        "I would say 18 clusters."
      ]
    },
    {
      "cell_type": "markdown",
      "metadata": {
        "id": "Bgn4c2MOg0iJ"
      },
      "source": [
        "> **Part 2** Build a model.\n",
        ">> **(a)** Using the k-Means algorithm, implement a clustering model. *Hint: Use [scikit-learn's K-means library](https://scikit-learn.org/stable/modules/generated/sklearn.cluster.KMeans.html).*"
      ]
    },
    {
      "cell_type": "code",
      "metadata": {
        "id": "FTw1K-iDg_MB"
      },
      "source": [
        "from sklearn.cluster import KMeans\n",
        "\n",
        "model_init = KMeans(n_clusters=18)"
      ],
      "execution_count": 5,
      "outputs": []
    },
    {
      "cell_type": "markdown",
      "metadata": {
        "id": "XzcU0DxOg_nP"
      },
      "source": [
        ">> **(b)** Train the clustering model on several reasonable values of $k$, taking into account your visual inspection from 1b. Plot the Bayesian information criterion (BIC) and Akaike information criterion (AIC) for each value of $k$."
      ]
    },
    {
      "cell_type": "code",
      "metadata": {
        "id": "mBApnd9Fg_05"
      },
      "source": [
        "def trainKM(k, dataset):\n",
        "  ''' Using your model above, implement a function that will train your K-means\n",
        "  for different values of k on your dataset and return the trained model'''\n",
        "  kmModel = KMeans(n_clusters=k)\n",
        "  kmModel.fit(dataset)\n",
        "  return kmModel"
      ],
      "execution_count": 51,
      "outputs": []
    },
    {
      "cell_type": "code",
      "metadata": {
        "id": "dEOowF_m3bJO"
      },
      "source": [
        "def calculateBIC(model):\n",
        "  ''' Using a trained model calculate the BIC for the model '''\n",
        "  k = model.cluster_centers_.shape[0]\n",
        "  n = len(model.labels_)\n",
        "  L = model.inertia_ / n\n",
        "  bic = k * math.log(n) - n * math.log(L)\n",
        "  return bic"
      ],
      "execution_count": 52,
      "outputs": []
    },
    {
      "cell_type": "code",
      "metadata": {
        "id": "I9SIB_kq4HRy"
      },
      "source": [
        "def calculateAIC(model):\n",
        "  ''' Using a trained model calculate the AIC for the model '''\n",
        "  k = model.cluster_centers_.shape[0]\n",
        "  n = len(model.labels_)\n",
        "  L = model.inertia_ / n\n",
        "  aic = 2 * k - n * np.log(L)\n",
        "  return aic"
      ],
      "execution_count": 53,
      "outputs": []
    },
    {
      "cell_type": "code",
      "metadata": {
        "id": "v8Dcu3Bp4U2J",
        "outputId": "84ef79cd-601f-4301-93bd-ac0e5dde54e7",
        "colab": {
          "base_uri": "https://localhost:8080/",
          "height": 283
        }
      },
      "source": [
        "bics = []\n",
        "aics = []\n",
        "for i, k in enumerate([10,15,20]):\n",
        "  model = trainKM(k, synth_data)\n",
        "  bics.append(calculateBIC(model))\n",
        "  aics.append(calculateAIC(model))\n",
        "\n",
        "fig, ax = plt.subplots()\n",
        "ax.plot(bics)\n",
        "ax.plot(aics)"
      ],
      "execution_count": 56,
      "outputs": [
        {
          "output_type": "execute_result",
          "data": {
            "text/plain": [
              "[<matplotlib.lines.Line2D at 0x7f347dad99e8>]"
            ]
          },
          "metadata": {
            "tags": []
          },
          "execution_count": 56
        },
        {
          "output_type": "display_data",
          "data": {
            "image/png": "[encoded data removed]",
            "text/plain": [
              "<Figure size 432x288 with 1 Axes>"
            ]
          },
          "metadata": {
            "tags": [],
            "needs_background": "light"
          }
        }
      ]
    },
    {
      "cell_type": "markdown",
      "metadata": {
        "id": "Udx0GcDrhALm"
      },
      "source": [
        ">> **(c)** What value of $k$ is optimal? How does it compare to your visual inspection?\n"
      ]
    },
    {
      "cell_type": "code",
      "metadata": {
        "id": "THI05PCJKq_8",
        "outputId": "1caedc63-b56f-45bf-8963-13e3a55ed650",
        "colab": {
          "base_uri": "https://localhost:8080/",
          "height": 283
        }
      },
      "source": [
        "bics = []\n",
        "aics = []\n",
        "for k in range(5,40):\n",
        "  model_ = trainKM(k, synth_data)\n",
        "  bics.append((k, calculateBIC(model_)))\n",
        "  aics.append((k, calculateAIC(model_)))\n",
        "\n",
        "bic_np = np.array(bics)\n",
        "aic_np = np.array(aics)\n",
        "fig, ax = plt.subplots()\n",
        "ax.plot(bic_np[:,0], bic_np[:,1])\n",
        "ax.plot(aic_np[:,0], aic_np[:,1])"
      ],
      "execution_count": 57,
      "outputs": [
        {
          "output_type": "execute_result",
          "data": {
            "text/plain": [
              "[<matplotlib.lines.Line2D at 0x7f347dac82e8>]"
            ]
          },
          "metadata": {
            "tags": []
          },
          "execution_count": 57
        },
        {
          "output_type": "display_data",
          "data": {
            "image/png": "[encoded data removed]",
            "text/plain": [
              "<Figure size 432x288 with 1 Axes>"
            ]
          },
          "metadata": {
            "tags": [],
            "needs_background": "light"
          }
        }
      ]
    },
    {
      "cell_type": "markdown",
      "metadata": {
        "id": "c905CDZt4_k1"
      },
      "source": [
        "Looks like optimal value is around $k=20$.\n",
        "\n"
      ]
    },
    {
      "cell_type": "markdown",
      "metadata": {
        "id": "tSJ9s6hN5TUu"
      },
      "source": [
        "# **Problem 2: $k$-NN Classification**\n",
        "In this problem, you will utilize data deriving\n",
        "from the same synthetic dataset as above. This time, the data has been separated into *synth_train*, *synth_valid* and *synth_test* arrays. Furthermore, each sample now includes a class label found in the $y$ column. These class labels come from the set $\\{1, 2, . . . , 31\\}$. *Note: These are not the same datasets as Problem 1.* \n",
        "\n",
        "> **Part 1** Train an implementation of the $k$-Nearest Neighbors algorithm on the training dataset. Note that $k$ here refers to the number of neighbors, not clusters."
      ]
    },
    {
      "cell_type": "code",
      "metadata": {
        "id": "0Lzq0T1555gV"
      },
      "source": [
        "from sklearn.neighbors import KNeighborsClassifier\n",
        "\n",
        "def trainKNN(k, dataset):\n",
        "  ''' Implement a function that will train a k-NN\n",
        "  for different values of k on your dataset and return the trained model'''\n",
        "  X = dataset[0]\n",
        "  y = dataset[1]\n",
        "  knnModel = KNeighborsClassifier(n_neighbors=k)\n",
        "  knnModel.fit(X,y)\n",
        "  return knnModel"
      ],
      "execution_count": 26,
      "outputs": []
    },
    {
      "cell_type": "markdown",
      "metadata": {
        "id": "eaCsGyAq550M"
      },
      "source": [
        "> **Part 2** Report the classification accuracy of this model on the validation set for different values for $k$. Plot these accuracies against $k$ and report the optimal value for $k$."
      ]
    },
    {
      "cell_type": "code",
      "metadata": {
        "id": "7sLOw8_u56Lw",
        "outputId": "1d39d5b9-98ee-491c-f617-f3482d5bef87",
        "colab": {
          "base_uri": "https://localhost:8080/",
          "height": 182
        }
      },
      "source": [
        "for k in range(1,10):\n",
        "  model_ = trainKNN(k, synth_train)\n",
        "  print('Accuracy for k={}: {}'.format(k, model_.score(synth_valid[0], synth_valid[1])))"
      ],
      "execution_count": 27,
      "outputs": [
        {
          "output_type": "stream",
          "text": [
            "Accuracy for k=1: 0.9516129032258065\n",
            "Accuracy for k=2: 0.9470046082949308\n",
            "Accuracy for k=3: 0.9608294930875576\n",
            "Accuracy for k=4: 0.9608294930875576\n",
            "Accuracy for k=5: 0.956221198156682\n",
            "Accuracy for k=6: 0.956221198156682\n",
            "Accuracy for k=7: 0.9608294930875576\n",
            "Accuracy for k=8: 0.9608294930875576\n",
            "Accuracy for k=9: 0.9608294930875576\n"
          ],
          "name": "stdout"
        }
      ]
    },
    {
      "cell_type": "markdown",
      "metadata": {
        "id": "pvzjgCff56r4"
      },
      "source": [
        "> **Part 2** Report the classification accuracy of this model on the data in synth test.csv using the optimal value of $k$ that you found in Part 2."
      ]
    },
    {
      "cell_type": "code",
      "metadata": {
        "id": "0YQm5vtb56x6",
        "outputId": "ea3d2b6e-bede-4c07-dc71-90516f5d9638",
        "colab": {
          "base_uri": "https://localhost:8080/",
          "height": 35
        }
      },
      "source": [
        "model_best = trainKNN(3, synth_train)\n",
        "model_best.score(synth_test[0], synth_test[1])"
      ],
      "execution_count": 30,
      "outputs": [
        {
          "output_type": "execute_result",
          "data": {
            "text/plain": [
              "0.9709677419354839"
            ]
          },
          "metadata": {
            "tags": []
          },
          "execution_count": 30
        }
      ]
    },
    {
      "cell_type": "markdown",
      "metadata": {
        "id": "NZVKAG2E64s5"
      },
      "source": [
        "# **Problem 3: Decision Tree Classification**\n",
        "In this problem you will use decision\n",
        "trees to classify the quality of red vinho verde wine samples based on their physicochemical properties. The dataset has been separated into *red_train, red_valid and red_test* arrays. For all of these files, the rightmost column (“quality”) is the target label for each datapoint. All other columns are features.\n",
        "\n",
        "> **Part 1** First let’s explore the datasets through the following exercises. Note that we cannot plot the data in a meaningful way given that number of features exceed the physical dimensions.\n",
        "\n",
        ">> **(a)** How many datapoints are in the training, validation, and testing sets?"
      ]
    },
    {
      "cell_type": "code",
      "metadata": {
        "id": "XoDNjQON7nxS",
        "outputId": "c54c8f4e-22bd-43dc-828c-9cda46cde5f8",
        "colab": {
          "base_uri": "https://localhost:8080/",
          "height": 72
        }
      },
      "source": [
        "print('Number in Training: {}\\nNumber in Validation: {}\\nNumber in Testing: {}'.format(\n",
        "    red_train[0].shape[0],\n",
        "    red_valid[0].shape[0],\n",
        "    red_test[0].shape[0]\n",
        "))"
      ],
      "execution_count": 32,
      "outputs": [
        {
          "output_type": "stream",
          "text": [
            "Number in Training: 895\n",
            "Number in Validation: 224\n",
            "Number in Testing: 480\n"
          ],
          "name": "stdout"
        }
      ]
    },
    {
      "cell_type": "markdown",
      "metadata": {
        "id": "K0Yt1Yaf7oEF"
      },
      "source": [
        ">> **(b)** How many features are available for each datapoint?"
      ]
    },
    {
      "cell_type": "code",
      "metadata": {
        "id": "o5xtChuE7oSN",
        "outputId": "f2a21fc6-5c53-4790-f210-ccdac56946f6",
        "colab": {
          "base_uri": "https://localhost:8080/",
          "height": 35
        }
      },
      "source": [
        "print('Number of features: {}'.format(red_train[0].shape[1]))"
      ],
      "execution_count": 33,
      "outputs": [
        {
          "output_type": "stream",
          "text": [
            "Number of features: 11\n"
          ],
          "name": "stdout"
        }
      ]
    },
    {
      "cell_type": "markdown",
      "metadata": {
        "id": "UVyz3oIb7obw"
      },
      "source": [
        ">> **(c)** What are the average *alcohol* and *pH* values for *training* samples?"
      ]
    },
    {
      "cell_type": "code",
      "metadata": {
        "id": "0OsKVlUH7o_K",
        "outputId": "17c6526f-edde-405a-8756-742fa636ab69",
        "colab": {
          "base_uri": "https://localhost:8080/",
          "height": 72
        }
      },
      "source": [
        "red_train_df[['alcohol', 'pH']].mean()"
      ],
      "execution_count": 35,
      "outputs": [
        {
          "output_type": "execute_result",
          "data": {
            "text/plain": [
              "alcohol    10.397952\n",
              "pH          3.309542\n",
              "dtype: float64"
            ]
          },
          "metadata": {
            "tags": []
          },
          "execution_count": 35
        }
      ]
    },
    {
      "cell_type": "markdown",
      "metadata": {
        "id": "tBZ-bK0A8Bsm"
      },
      "source": [
        "> **Part 2** Decision Trees.\n",
        "\n",
        ">> **(a)** Implement a binary decision tree model for the training data. *Hint: Try looking at the [scikit-learn decision tree library](https://scikit-learn.org/stable/modules/generated/sklearn.tree.DecisionTreeClassifier.html?highlight=decision%20tree#sklearn.tree.DecisionTreeClassifier).*"
      ]
    },
    {
      "cell_type": "code",
      "metadata": {
        "id": "5wTQK93A8jwe"
      },
      "source": [
        "from sklearn.tree import DecisionTreeClassifier\n",
        "\n",
        "def trainDT(dataset, max_depth=None):\n",
        "  ''' Implement a function that will train a decision tree model\n",
        "  on your dataset and return the trained model'''\n",
        "  \n",
        "  dtModel = DecisionTreeClassifier(max_depth=max_depth)\n",
        "  dtModel.fit(dataset[0], dataset[1])\n",
        "\n",
        "  return dtModel"
      ],
      "execution_count": 37,
      "outputs": []
    },
    {
      "cell_type": "markdown",
      "metadata": {
        "id": "BxZJJn3Z86X6"
      },
      "source": [
        ">> **(b)** There are a number of hyperparameters that can be tuned to improve your model, one of which is the criteria for ending the splitting process. Two common ways of terminating the splitting process are *maximum depth* of the tree or *minimum number of samples* left. Tune the *maximum depth* of the tree by reporting the accuracy of the classifier in 2a on the validation set for different settings of *maximum depth*. Plot your findings."
      ]
    },
    {
      "cell_type": "code",
      "metadata": {
        "id": "4jA6sF8X9VPy",
        "outputId": "b0c424ea-e34c-4945-da6e-e7d6976ebc80",
        "colab": {
          "base_uri": "https://localhost:8080/",
          "height": 283
        }
      },
      "source": [
        "res = []\n",
        "for max_depth_ in range(1, 20):\n",
        "  model_ = trainDT(red_train, max_depth_)\n",
        "  res.append((max_depth_, model_.score(red_valid[0], red_valid[1])))\n",
        "\n",
        "res = np.array(res)\n",
        "\n",
        "plt.plot(res[:,0], res[:,1])"
      ],
      "execution_count": 47,
      "outputs": [
        {
          "output_type": "execute_result",
          "data": {
            "text/plain": [
              "[<matplotlib.lines.Line2D at 0x7f347db5acc0>]"
            ]
          },
          "metadata": {
            "tags": []
          },
          "execution_count": 47
        },
        {
          "output_type": "display_data",
          "data": {
            "image/png": "[encoded data removed]",
            "text/plain": [
              "<Figure size 432x288 with 1 Axes>"
            ]
          },
          "metadata": {
            "tags": [],
            "needs_background": "light"
          }
        }
      ]
    },
    {
      "cell_type": "markdown",
      "metadata": {
        "id": "7_0VndV69z6H"
      },
      "source": [
        ">> **(c)** Use the optimum setting of *maximum depth* found in 2b to report the accuracy of the classifier on the *test* dataset."
      ]
    },
    {
      "cell_type": "markdown",
      "metadata": {
        "id": "DsjALYk0cajg"
      },
      "source": [
        "Since the maximum depth hyperparameter does not seem to help accuracy convergence, lets pick the least model complexity option and choose $max\\_depth=1$"
      ]
    },
    {
      "cell_type": "code",
      "metadata": {
        "id": "N-IBzhZ_9kOv",
        "outputId": "868006c9-a370-4a4d-8610-d88947d5c38f",
        "colab": {
          "base_uri": "https://localhost:8080/",
          "height": 35
        }
      },
      "source": [
        "model_best = trainDT(red_train, max_depth=1)\n",
        "model_best.score(red_test[0], red_test[1])"
      ],
      "execution_count": 50,
      "outputs": [
        {
          "output_type": "execute_result",
          "data": {
            "text/plain": [
              "0.5625"
            ]
          },
          "metadata": {
            "tags": []
          },
          "execution_count": 50
        }
      ]
    },
    {
      "cell_type": "code",
      "metadata": {
        "id": "xeMI8F9Yc3Fz"
      },
      "source": [
        ""
      ],
      "execution_count": null,
      "outputs": []
    }
  ]
}