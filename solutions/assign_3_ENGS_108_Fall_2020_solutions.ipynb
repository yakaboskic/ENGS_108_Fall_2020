{
  "nbformat": 4,
  "nbformat_minor": 0,
  "metadata": {
    "colab": {
      "name": "assign_3_ENGS_108_Fall_2020_solutions.ipynb",
      "provenance": [],
      "collapsed_sections": [],
      "toc_visible": true,
      "mount_file_id": "1l-negNz-QKL2iP9lLDLlc9CFfCkmFVS4",
      "authorship_tag": "ABX9TyMyv0eAzjOvzIg1neRTtvJU",
      "include_colab_link": true
    },
    "kernelspec": {
      "name": "python3",
      "display_name": "Python 3"
    }
  },
  "cells": [
    {
      "cell_type": "markdown",
      "metadata": {
        "id": "view-in-github",
        "colab_type": "text"
      },
      "source": [
        "<a href=\"https://colab.research.google.com/github/yakaboskic/ENGS_108_Fall_2020/blob/master/solutions/assign_3_ENGS_108_Fall_2020_solutions.ipynb\" target=\"_parent\"><img src=\"https://colab.research.google.com/assets/colab-badge.svg\" alt=\"Open In Colab\"/></a>"
      ]
    },
    {
      "cell_type": "markdown",
      "metadata": {
        "id": "W5PUrjJEU8hO"
      },
      "source": [
        "# **ENGS 108 Fall 2020 Assignment 3**\n",
        "\n",
        "*Due October 5, 2020 at 11:59PM on Canvas*\n",
        "\n",
        "**Instructors:** George Cybenko\n",
        "\n",
        "**TAs:** Chase Yakaboski\n",
        "\n",
        "\n",
        "---\n",
        "\n",
        "## **Rules and Requirements**\n",
        "\n",
        "\n",
        "1.   You are only allowed to use Python packages that are explicity imported in \n",
        "the assignment notebook or are standard (bultin) python libraries like random, os, sys, etc, (Standard Bultin Python libraries will have a Python.org documentation). For this assignment you may use:\n",
        "  *   [numpy](https://numpy.org/doc/stable/)\n",
        "  *   [pandas](https://pandas.pydata.org/pandas-docs/stable/index.html)\n",
        "  *   [scikit-learn](https://scikit-learn.org/stable/)\n",
        "  *   [matplotlib](https://matplotlib.org/)\n",
        "\n",
        "2.   All code must be fit into the designated code or text blocks in the assignment notebook. They are indentified by a **TODO** qualifier.\n",
        "\n",
        "3. For analytical questions that don't require code, type your answer cleanly in Markdown. For help, see the [Google Colab Markdown Guide](https://colab.research.google.com/notebooks/markdown_guide.ipynb).\n",
        "\n",
        "---"
      ]
    },
    {
      "cell_type": "code",
      "metadata": {
        "id": "OdrHPCtpVDtH"
      },
      "source": [
        "''' Import Statements '''\n",
        "import numpy as np\n",
        "import pandas as pd\n",
        "import matplotlib.pyplot as plt\n",
        "import os\n",
        "import copy\n",
        "import pickle\n",
        "import tqdm"
      ],
      "execution_count": 1,
      "outputs": []
    },
    {
      "cell_type": "markdown",
      "metadata": {
        "id": "5jG1AhwJVYk2"
      },
      "source": [
        "## **Data Loading**\n",
        "Upload the red and synthetic datasets to your google colab session using Google Drive. Read the following [tutorial](https://github.com/yakaboskic/ENGS_108_Fall_2020) for how to get setup. "
      ]
    },
    {
      "cell_type": "code",
      "metadata": {
        "id": "oQTIoO0OVKE7"
      },
      "source": [
        "dataset_base_path = '/content/sample_data'\n",
        "\n",
        "#TODO: Set your base datasets path. This is my base path, you will need to change to match yours. \n",
        "dataset_github_path = '/content/drive/My Drive/git/ENGS_108_Fall_2020/datasets'"
      ],
      "execution_count": 2,
      "outputs": []
    },
    {
      "cell_type": "code",
      "metadata": {
        "id": "CCljGNUBVdZO"
      },
      "source": [
        "#-- Load California Housing Data\n",
        "calif_train_df = pd.read_csv(os.path.join(dataset_base_path, 'california_housing_train.csv'))\n",
        "calif_test_df = pd.read_csv(os.path.join(dataset_base_path, 'california_housing_test.csv'))\n",
        "\n",
        "#-- Load Wine Data\n",
        "red_train_path = os.path.join(dataset_github_path, 'red_train.csv')\n",
        "red_valid_path = os.path.join(dataset_github_path, 'red_valid.csv')\n",
        "red_test_path = os.path.join(dataset_github_path, 'red_test.csv')\n",
        "red_train_df = pd.read_csv(red_train_path)\n",
        "red_valid_df = pd.read_csv(red_valid_path)\n",
        "red_test_df = pd.read_csv(red_test_path)\n",
        "\n",
        "#-- Load Cyrillic Data\n",
        "with open(os.path.join(dataset_github_path, 'cyrillic_data.pk'), 'rb') as f_:\n",
        "  cyrillic, letter_map = pickle.load(f_)"
      ],
      "execution_count": 3,
      "outputs": []
    },
    {
      "cell_type": "markdown",
      "metadata": {
        "id": "h3Uub5j8WFCc"
      },
      "source": [
        "## **Problem 1: Linear Regression**\n",
        "In this problem, you will be building a linear regression model to predict California Housing prices with the dataset that is provided with google colab. \n",
        ">\n",
        "> **Part 1** A reasonable first step in every machine learning task is to understand the dataset at hand. Proceed to explore this problem’s dataset by addressing the following:\n",
        ">> **(a)** Using the pandas DataFrame *calif_train_df* that is already loaded for you. Print a statistical summary of the data. *Hint: There is a nice pandas function to do this, research the documentation and find it.* "
      ]
    },
    {
      "cell_type": "code",
      "metadata": {
        "id": "3U9KwgYpV08o",
        "outputId": "f1d659c9-c660-4113-e40e-2573a13cedb3",
        "colab": {
          "base_uri": "https://localhost:8080/",
          "height": 300
        }
      },
      "source": [
        "calif_train_df.describe()"
      ],
      "execution_count": 4,
      "outputs": [
        {
          "output_type": "execute_result",
          "data": {
            "text/html": [
              "<div>\n",
              "<style scoped>\n",
              "    .dataframe tbody tr th:only-of-type {\n",
              "        vertical-align: middle;\n",
              "    }\n",
              "\n",
              "    .dataframe tbody tr th {\n",
              "        vertical-align: top;\n",
              "    }\n",
              "\n",
              "    .dataframe thead th {\n",
              "        text-align: right;\n",
              "    }\n",
              "</style>\n",
              "<table border=\"1\" class=\"dataframe\">\n",
              "  <thead>\n",
              "    <tr style=\"text-align: right;\">\n",
              "      <th></th>\n",
              "      <th>longitude</th>\n",
              "      <th>latitude</th>\n",
              "      <th>housing_median_age</th>\n",
              "      <th>total_rooms</th>\n",
              "      <th>total_bedrooms</th>\n",
              "      <th>population</th>\n",
              "      <th>households</th>\n",
              "      <th>median_income</th>\n",
              "      <th>median_house_value</th>\n",
              "    </tr>\n",
              "  </thead>\n",
              "  <tbody>\n",
              "    <tr>\n",
              "      <th>count</th>\n",
              "      <td>17000.000000</td>\n",
              "      <td>17000.000000</td>\n",
              "      <td>17000.000000</td>\n",
              "      <td>17000.000000</td>\n",
              "      <td>17000.000000</td>\n",
              "      <td>17000.000000</td>\n",
              "      <td>17000.000000</td>\n",
              "      <td>17000.000000</td>\n",
              "      <td>17000.000000</td>\n",
              "    </tr>\n",
              "    <tr>\n",
              "      <th>mean</th>\n",
              "      <td>-119.562108</td>\n",
              "      <td>35.625225</td>\n",
              "      <td>28.589353</td>\n",
              "      <td>2643.664412</td>\n",
              "      <td>539.410824</td>\n",
              "      <td>1429.573941</td>\n",
              "      <td>501.221941</td>\n",
              "      <td>3.883578</td>\n",
              "      <td>207300.912353</td>\n",
              "    </tr>\n",
              "    <tr>\n",
              "      <th>std</th>\n",
              "      <td>2.005166</td>\n",
              "      <td>2.137340</td>\n",
              "      <td>12.586937</td>\n",
              "      <td>2179.947071</td>\n",
              "      <td>421.499452</td>\n",
              "      <td>1147.852959</td>\n",
              "      <td>384.520841</td>\n",
              "      <td>1.908157</td>\n",
              "      <td>115983.764387</td>\n",
              "    </tr>\n",
              "    <tr>\n",
              "      <th>min</th>\n",
              "      <td>-124.350000</td>\n",
              "      <td>32.540000</td>\n",
              "      <td>1.000000</td>\n",
              "      <td>2.000000</td>\n",
              "      <td>1.000000</td>\n",
              "      <td>3.000000</td>\n",
              "      <td>1.000000</td>\n",
              "      <td>0.499900</td>\n",
              "      <td>14999.000000</td>\n",
              "    </tr>\n",
              "    <tr>\n",
              "      <th>25%</th>\n",
              "      <td>-121.790000</td>\n",
              "      <td>33.930000</td>\n",
              "      <td>18.000000</td>\n",
              "      <td>1462.000000</td>\n",
              "      <td>297.000000</td>\n",
              "      <td>790.000000</td>\n",
              "      <td>282.000000</td>\n",
              "      <td>2.566375</td>\n",
              "      <td>119400.000000</td>\n",
              "    </tr>\n",
              "    <tr>\n",
              "      <th>50%</th>\n",
              "      <td>-118.490000</td>\n",
              "      <td>34.250000</td>\n",
              "      <td>29.000000</td>\n",
              "      <td>2127.000000</td>\n",
              "      <td>434.000000</td>\n",
              "      <td>1167.000000</td>\n",
              "      <td>409.000000</td>\n",
              "      <td>3.544600</td>\n",
              "      <td>180400.000000</td>\n",
              "    </tr>\n",
              "    <tr>\n",
              "      <th>75%</th>\n",
              "      <td>-118.000000</td>\n",
              "      <td>37.720000</td>\n",
              "      <td>37.000000</td>\n",
              "      <td>3151.250000</td>\n",
              "      <td>648.250000</td>\n",
              "      <td>1721.000000</td>\n",
              "      <td>605.250000</td>\n",
              "      <td>4.767000</td>\n",
              "      <td>265000.000000</td>\n",
              "    </tr>\n",
              "    <tr>\n",
              "      <th>max</th>\n",
              "      <td>-114.310000</td>\n",
              "      <td>41.950000</td>\n",
              "      <td>52.000000</td>\n",
              "      <td>37937.000000</td>\n",
              "      <td>6445.000000</td>\n",
              "      <td>35682.000000</td>\n",
              "      <td>6082.000000</td>\n",
              "      <td>15.000100</td>\n",
              "      <td>500001.000000</td>\n",
              "    </tr>\n",
              "  </tbody>\n",
              "</table>\n",
              "</div>"
            ],
            "text/plain": [
              "          longitude      latitude  ...  median_income  median_house_value\n",
              "count  17000.000000  17000.000000  ...   17000.000000        17000.000000\n",
              "mean    -119.562108     35.625225  ...       3.883578       207300.912353\n",
              "std        2.005166      2.137340  ...       1.908157       115983.764387\n",
              "min     -124.350000     32.540000  ...       0.499900        14999.000000\n",
              "25%     -121.790000     33.930000  ...       2.566375       119400.000000\n",
              "50%     -118.490000     34.250000  ...       3.544600       180400.000000\n",
              "75%     -118.000000     37.720000  ...       4.767000       265000.000000\n",
              "max     -114.310000     41.950000  ...      15.000100       500001.000000\n",
              "\n",
              "[8 rows x 9 columns]"
            ]
          },
          "metadata": {
            "tags": []
          },
          "execution_count": 4
        }
      ]
    },
    {
      "cell_type": "markdown",
      "metadata": {
        "id": "beBzOU95XG8d"
      },
      "source": [
        ">> **(b)** Visualize the longitute and latitude features through a scatterplot and report on what the plot resembles. Maybe try playing with the graph opacity to yeild more sophisticated visualization."
      ]
    },
    {
      "cell_type": "code",
      "metadata": {
        "id": "uZlxH6SbW_nX",
        "outputId": "b96e6d2f-921f-4508-de2b-dada2b90c39b",
        "colab": {
          "base_uri": "https://localhost:8080/",
          "height": 297
        }
      },
      "source": [
        "calif_train_df.plot(kind='scatter', x='longitude', y='latitude', alpha=.1)"
      ],
      "execution_count": 5,
      "outputs": [
        {
          "output_type": "execute_result",
          "data": {
            "text/plain": [
              "<matplotlib.axes._subplots.AxesSubplot at 0x7f818ceb2ba8>"
            ]
          },
          "metadata": {
            "tags": []
          },
          "execution_count": 5
        },
        {
          "output_type": "display_data",
          "data": {
            "image/png": "[encoded data removed]",
            "text/plain": [
              "<Figure size 432x288 with 1 Axes>"
            ]
          },
          "metadata": {
            "tags": [],
            "needs_background": "light"
          }
        }
      ]
    },
    {
      "cell_type": "markdown",
      "metadata": {
        "id": "BfBtKCUYZMUC"
      },
      "source": [
        "> **Part 2** Now we will build our linear regression model.\n",
        ">> **(a)** Using an appropriate library (such as scikit-learn), build a linear regression model on the training data so that you are using all available features to predict the median housing price of a new california district. "
      ]
    },
    {
      "cell_type": "code",
      "metadata": {
        "id": "Rf-W5DdjYSFc"
      },
      "source": [
        "from sklearn.linear_model import LinearRegression\n",
        "\n",
        "#-- Seperate the data\n",
        "X = copy.copy(calif_train_df.iloc[:, :-1])\n",
        "y = copy.copy(calif_train_df.iloc[:, -1])\n",
        "\n",
        "def buildModelLinear(X, y):\n",
        "  ''' Return a trained linear regression model on your dataset. '''\n",
        "  model = LinearRegression()\n",
        "  model.fit(X, y)\n",
        "  return model\n",
        "\n",
        "model = buildModelLinear(X, y)"
      ],
      "execution_count": 6,
      "outputs": []
    },
    {
      "cell_type": "markdown",
      "metadata": {
        "id": "cJjVl9nKqSRt"
      },
      "source": [
        ">> **(b)** What is the largest coefficient of the linear model and which feature is associated with it?"
      ]
    },
    {
      "cell_type": "code",
      "metadata": {
        "id": "7CMvIL-LaVO8",
        "outputId": "54726d0e-d1f1-40d9-8e58-83715acee740",
        "colab": {
          "base_uri": "https://localhost:8080/"
        }
      },
      "source": [
        "max_ = max(model.coef_)\n",
        "print('Max coefficient: {}'.format(max_))\n",
        "print('Associated Feature: {}'.format(calif_train_df.columns[list(model.coef_).index(max_)]))"
      ],
      "execution_count": 7,
      "outputs": [
        {
          "output_type": "stream",
          "text": [
            "Max coefficient: 40507.06835939748\n",
            "Associated Feature: median_income\n"
          ],
          "name": "stdout"
        }
      ]
    },
    {
      "cell_type": "markdown",
      "metadata": {
        "id": "g7gcaOTLrVTS"
      },
      "source": [
        ">> **(c)** Choose an appropriate metric to calculate the accuracy/error of your linear regression model."
      ]
    },
    {
      "cell_type": "code",
      "metadata": {
        "id": "N7nrAxVkqGX7",
        "outputId": "98b7dd30-35df-49c7-de60-bc112b9de794",
        "colab": {
          "base_uri": "https://localhost:8080/"
        }
      },
      "source": [
        "from sklearn.metrics import mean_squared_error\n",
        "X_test = calif_test_df.iloc[:, :-1]\n",
        "y_test = calif_test_df.iloc[:, -1]\n",
        "\n",
        "print('R^2 value: {}'.format(model.score(X_test, y_test)))\n",
        "print('RMSE: {}'.format(np.sqrt(mean_squared_error(y_test, model.predict(X_test)))))"
      ],
      "execution_count": 8,
      "outputs": [
        {
          "output_type": "stream",
          "text": [
            "R^2 value: 0.6195057678312047\n",
            "RMSE: 69765.36022216761\n"
          ],
          "name": "stdout"
        }
      ]
    },
    {
      "cell_type": "markdown",
      "metadata": {
        "id": "PjLJ_g0RyJTw"
      },
      "source": [
        ">> **(d)** Say instead of modeling every feature as linear, we think that median home price varies quadratically with median income. Build and train a model that uses this assumption and compare its accuracy/error to the pure linear model. Which model would you choose and why?"
      ]
    },
    {
      "cell_type": "code",
      "metadata": {
        "id": "6E-hTWPHyGHF",
        "outputId": "55ff48f1-8b4c-460d-f9f4-48eb51bcb7f6",
        "colab": {
          "base_uri": "https://localhost:8080/"
        }
      },
      "source": [
        "X.loc[:,'median_income'] = X.loc[:,'median_income']**2\n",
        "model_poly = buildModelLinear(X, y)\n",
        "print('R^2 value: {}'.format(model_poly.score(X_test, y_test)))\n",
        "print('RMSE: {}'.format(np.sqrt(mean_squared_error(y_test, model_poly.predict(X_test)))))"
      ],
      "execution_count": 9,
      "outputs": [
        {
          "output_type": "stream",
          "text": [
            "R^2 value: 0.22595304561038743\n",
            "RMSE: 99506.04275726451\n"
          ],
          "name": "stdout"
        }
      ]
    },
    {
      "cell_type": "markdown",
      "metadata": {
        "id": "ndIdRReY1Llk"
      },
      "source": [
        ">>> Defintely choose the linear model."
      ]
    },
    {
      "cell_type": "markdown",
      "metadata": {
        "id": "5lb2qRCt1Zqb"
      },
      "source": [
        "## **Problem 2: Logistic Regression**\n",
        "In this problem, you will be building a classification model using linear functions to predict wine quality. \n",
        ">\n",
        "> **Part 1** Let's begin this analysis by assuming we have talked to a wine sommelier about what attributes make a good wine. Our wine sommelier has told us that fixed acidity and alcohol concentration are the primary attributes that differentiate a \"good wine\" from a \"bad wine.\"\n",
        ">\n",
        ">> **(a)** Let's assume that we can classify a \"good wine\" as a quality level of 7 or 8, and a \"bad wine\" has a quality of below 5. Choose an appropriate graph, plot fixed acidity and alcohol concentration of both \"good wines\" and \"bad wines.\" Use the *red_train_df* dataset for these questions."
      ]
    },
    {
      "cell_type": "code",
      "metadata": {
        "id": "3vGHP6jG0kn3",
        "outputId": "fe751fa9-eb44-41a6-ef1a-657f36b6e010",
        "colab": {
          "base_uri": "https://localhost:8080/",
          "height": 297
        }
      },
      "source": [
        "bad_quality = red_train_df[red_train_df['quality'] < 5]\n",
        "good_quality = red_train_df[red_train_df['quality'] >= 7]\n",
        "ax = plt.subplot()\n",
        "bad_quality.plot(kind='scatter', c='red', x='alcohol', y='fixed acidity', ax=ax)\n",
        "good_quality.plot(kind='scatter', c='green', x='alcohol', y='fixed acidity', ax=ax)"
      ],
      "execution_count": 11,
      "outputs": [
        {
          "output_type": "execute_result",
          "data": {
            "text/plain": [
              "<matplotlib.axes._subplots.AxesSubplot at 0x7f817fdbf9b0>"
            ]
          },
          "metadata": {
            "tags": []
          },
          "execution_count": 11
        },
        {
          "output_type": "display_data",
          "data": {
            "image/png": "[encoded data removed]",
            "text/plain": [
              "<Figure size 432x288 with 1 Axes>"
            ]
          },
          "metadata": {
            "tags": [],
            "needs_background": "light"
          }
        }
      ]
    },
    {
      "cell_type": "markdown",
      "metadata": {
        "id": "zsKYA5USn9Zj"
      },
      "source": [
        ">> **(b)** Based on your plot in (a) could you use these features to perfectly delineate between \"good\" and \"bad\" wines? I.e. are these two features [linearly separable](https://en.wikipedia.org/wiki/Linear_separability)?"
      ]
    },
    {
      "cell_type": "markdown",
      "metadata": {
        "id": "xQNMACBXo7Zc"
      },
      "source": [
        "The data clearly shows that their is no linear decision boundary. "
      ]
    },
    {
      "cell_type": "markdown",
      "metadata": {
        "id": "iZcHKs_z03yD"
      },
      "source": [
        ">> **(c)** Do you agree with the wine sommelier in their assessment about these two features? Explain your answer. "
      ]
    },
    {
      "cell_type": "markdown",
      "metadata": {
        "id": "VbEgAxtX911w"
      },
      "source": [
        "I do not completely agree with the sommelier since the data is not linearly seperable in terms of alcohol content and fixed acidity, there is no perfect linear classifier that can delineate between good and bad wines scrictly on these features. However, even tho not linearly seperable, there is still a slight partitioning so these features might offer a degree of predictive power but not as much as what the sommelier suggests. "
      ]
    },
    {
      "cell_type": "markdown",
      "metadata": {
        "id": "vuunqhzIqNEt"
      },
      "source": [
        "> **Part 2** Now use the [sklearn linear classifier](https://scikit-learn.org/stable/modules/generated/sklearn.linear_model.SGDClassifier.html) to build a linear function to classify wine quality based on all features of the dataset.\n",
        ">\n",
        ">> **(a)** Using a least squares loss function and stocastic gradient descent, fit a linear model to the training data and report accuracy on the test data. Trying running your code multiple times, what happens? Explain your observations."
      ]
    },
    {
      "cell_type": "code",
      "metadata": {
        "id": "K9MGwxg2dTcE",
        "outputId": "19318057-5a77-4cc5-8839-6e179e2edea3",
        "colab": {
          "base_uri": "https://localhost:8080/"
        }
      },
      "source": [
        "from sklearn.linear_model import SGDClassifier\n",
        "\n",
        "def makeClassifier(dataset, loss_function='squared_loss'):\n",
        "  X = dataset.drop('quality', axis=1).to_numpy()\n",
        "  y = dataset['quality'].to_numpy()\n",
        "  model = SGDClassifier(loss=loss_function)\n",
        "  model.fit(X,y)\n",
        "  #print('Training accuracy: {}'.format(model.score(X,y)))\n",
        "  return model\n",
        "\n",
        "model = makeClassifier(red_train_df)\n",
        "\n",
        "X_test = red_test_df.drop('quality', axis=1).to_numpy()\n",
        "y_test = red_test_df['quality'].to_numpy()\n",
        "\n",
        "print('Accuracy: {}'.format(model.score(X_test, y_test)))"
      ],
      "execution_count": 13,
      "outputs": [
        {
          "output_type": "stream",
          "text": [
            "Accuracy: 0.08125\n"
          ],
          "name": "stdout"
        }
      ]
    },
    {
      "cell_type": "markdown",
      "metadata": {
        "id": "tACrcy-q-uQB"
      },
      "source": [
        "If you run this code multiple times, the accuracy does not converge meaning many local minima exist."
      ]
    },
    {
      "cell_type": "markdown",
      "metadata": {
        "id": "Wq9xIlbQ4TRe"
      },
      "source": [
        ">> **(b)** Using a logistic regression loss function and stocastic gradient descent, fit a linear model to the training data and report accuracy on the test data. Do the observations you saw after running your code multiple times in (a) hold for logistic regression? Why or why not."
      ]
    },
    {
      "cell_type": "code",
      "metadata": {
        "id": "Pw538rU9tTNJ",
        "outputId": "d6695405-a414-493a-a202-4e23681d5028",
        "colab": {
          "base_uri": "https://localhost:8080/",
          "height": 35
        }
      },
      "source": [
        "model = makeClassifier(red_train_df, loss_function='log')\n",
        "print('Accuracy: {}'.format(model.score(X_test, y_test)))"
      ],
      "execution_count": null,
      "outputs": [
        {
          "output_type": "stream",
          "text": [
            "Accuracy: 0.42083333333333334\n"
          ],
          "name": "stdout"
        }
      ]
    },
    {
      "cell_type": "markdown",
      "metadata": {
        "id": "2jZA1yGJ_BIU"
      },
      "source": [
        "The logistic regression has much greater stability and convergence."
      ]
    },
    {
      "cell_type": "markdown",
      "metadata": {
        "id": "d19Rk6DBFfKJ"
      },
      "source": [
        ">> **(c)** We learned in class that there are a couple hyperparameters that can be used in stocastic gradient descent. One very important one is learning rate. Using your logistic regression model in (b) vary the learning rate (i.e. $\\alpha$ and set learning_rate argument to 'constant'), train the classifier on the training dataset, and use the validation set to choose the best model, and report the accuracy of this model on the testing dataset."
      ]
    },
    {
      "cell_type": "code",
      "metadata": {
        "id": "3RM4dvzgdzsl",
        "outputId": "fdb5e124-7fb8-4752-b280-278c13dd11b8",
        "colab": {
          "base_uri": "https://localhost:8080/"
        }
      },
      "source": [
        "def makeClassifierWithLearningRate(dataset, alpha, loss_function='log'):\n",
        "  X = dataset.drop('quality', axis=1).to_numpy()\n",
        "  y = dataset['quality'].to_numpy()\n",
        "  model = SGDClassifier(loss=loss_function, eta0=alpha, learning_rate='constant')\n",
        "  model.fit(X,y)\n",
        "  #print('Training accuracy: {}'.format(model.score(X,y)))\n",
        "  return model\n",
        "\n",
        "best_model = None\n",
        "best_score = 0\n",
        "X_valid = red_valid_df.drop('quality', axis=1).to_numpy()\n",
        "y_valid = red_valid_df['quality'].to_numpy()\n",
        "\n",
        "for alpha in np.linspace(.01, .1):\n",
        "  model = makeClassifierWithLearningRate(red_train_df, alpha)\n",
        "  score = model.score(X_valid, y_valid)\n",
        "  #print('Validation Score: {}'.format(score))\n",
        "  if score > best_score:\n",
        "    best_score = score\n",
        "    best_model = model\n",
        "\n",
        "print('Best Model Accuracy: {}'.format(best_model.score(X_test, y_test)))"
      ],
      "execution_count": 14,
      "outputs": [
        {
          "output_type": "stream",
          "text": [
            "Best Model Accuracy: 0.4875\n"
          ],
          "name": "stdout"
        }
      ]
    },
    {
      "cell_type": "markdown",
      "metadata": {
        "id": "kxhjjWviPT_8"
      },
      "source": [
        "## **Problem 3: Cyrillic Dataset**\n",
        "\n",
        "In this problem, we will put many of the techniques we've learned together to compare different ways to classify handwritten Russia Cyrillic letters. The dataset has already been converted for you into a numpy array with the first column delineating the letter class as an integer value. A letter_map dictionary provides a simple mapping from these integers to the associated cyrillic character.\n",
        ">\n",
        "> **(a)** Produce a distance matrix between characters using the Hamming distance, where the distance is smallest for characters that are *similar*. "
      ]
    },
    {
      "cell_type": "code",
      "metadata": {
        "id": "J6cE_Sr35pWN"
      },
      "source": [
        "#-- Get an average value of each cyrillic letter\n",
        "#-- then calculate distances between 34 average letters\n",
        "cyrillic_dict = dict()\n",
        "for example in list(cyrillic):\n",
        "  label = example[0]\n",
        "  data = example[1:]\n",
        "  if label in cyrillic_dict:\n",
        "    cyrillic_dict[label].append(data)\n",
        "  else:\n",
        "    cyrillic_dict[label] = [data]\n",
        "\n",
        "avg_cryllic = []\n",
        "for label in range(len(cyrillic_dict)):\n",
        "  avg_cryllic.append(np.array(cyrillic_dict[label]).mean(axis=0))\n",
        "\n",
        "avg_cryllic = np.array(avg_cryllic)"
      ],
      "execution_count": 15,
      "outputs": []
    },
    {
      "cell_type": "code",
      "metadata": {
        "id": "uTXeFfY-ezUV"
      },
      "source": [
        "def hamming_distance(a, b):\n",
        "  distance_counter = 0\n",
        "  for idx in range(len(a)):\n",
        "    if a[idx] != b[idx]:\n",
        "      distance_counter += 1\n",
        "  return distance_counter"
      ],
      "execution_count": 16,
      "outputs": []
    },
    {
      "cell_type": "code",
      "metadata": {
        "id": "qqdPLHFI2LnA",
        "outputId": "fa4f3333-04bc-45c8-fd67-3a143657742d",
        "colab": {
          "base_uri": "https://localhost:8080/"
        }
      },
      "source": [
        "from scipy.spatial.distance import hamming\n",
        "mat = []\n",
        "for example_1 in tqdm.tqdm(list(avg_cryllic)):\n",
        "  dist_1 = []\n",
        "  for example_2 in list(avg_cryllic):\n",
        "    dist_1.append(hamming(example_1, example_2))\n",
        "  mat.append(dist_1)\n",
        "mat = np.array(mat)"
      ],
      "execution_count": 17,
      "outputs": [
        {
          "output_type": "stream",
          "text": [
            "100%|██████████| 34/34 [00:00<00:00, 927.51it/s]\n"
          ],
          "name": "stderr"
        }
      ]
    },
    {
      "cell_type": "code",
      "metadata": {
        "id": "xjx2Ratk_amk",
        "outputId": "b9a7083e-f2d4-429f-cdcd-71a8d2757580",
        "colab": {
          "base_uri": "https://localhost:8080/"
        }
      },
      "source": [
        "mat"
      ],
      "execution_count": 20,
      "outputs": [
        {
          "output_type": "execute_result",
          "data": {
            "text/plain": [
              "array([[0.        , 0.8279321 , 0.72839506, ..., 0.64506173, 0.81018519,\n",
              "        0.78549383],\n",
              "       [0.8279321 , 0.        , 0.86265432, ..., 0.83024691, 0.88348765,\n",
              "        0.88040123],\n",
              "       [0.72839506, 0.86265432, 0.        , ..., 0.75      , 0.83796296,\n",
              "        0.82253086],\n",
              "       ...,\n",
              "       [0.64506173, 0.83024691, 0.75      , ..., 0.        , 0.80324074,\n",
              "        0.79166667],\n",
              "       [0.81018519, 0.88348765, 0.83796296, ..., 0.80324074, 0.        ,\n",
              "        0.85339506],\n",
              "       [0.78549383, 0.88040123, 0.82253086, ..., 0.79166667, 0.85339506,\n",
              "        0.        ]])"
            ]
          },
          "metadata": {
            "tags": []
          },
          "execution_count": 20
        }
      ]
    },
    {
      "cell_type": "markdown",
      "metadata": {
        "id": "hxBGbS1TSn1r"
      },
      "source": [
        "> **(b)** Produce a distance matrix between characters using the Hamming distance, where the distance is smallest for characters that are *most different*. "
      ]
    },
    {
      "cell_type": "code",
      "metadata": {
        "id": "BlOstQyGSkfM"
      },
      "source": [
        "def hamming_distance_reverse(a, b):\n",
        "  distance_counter = 0\n",
        "  for idx in range(len(a)):\n",
        "    if a[idx] == b[idx]:\n",
        "      distance_counter += 1\n",
        "  return distance_counter"
      ],
      "execution_count": 18,
      "outputs": []
    },
    {
      "cell_type": "code",
      "metadata": {
        "id": "2eZ6M7UqTMPz",
        "outputId": "ea9118ea-b476-40e8-9109-c35e8a8ebcfc",
        "colab": {
          "base_uri": "https://localhost:8080/"
        }
      },
      "source": [
        "from scipy.spatial.distance import hamming\n",
        "mat_inv = []\n",
        "for example_1 in tqdm.tqdm(list(avg_cryllic)):\n",
        "  dist_1 = []\n",
        "  for example_2 in list(avg_cryllic):\n",
        "    dist_1.append(1 - hamming(example_1, example_2))\n",
        "  mat_inv.append(dist_1)\n",
        "mat_inv = np.array(mat_inv)"
      ],
      "execution_count": 19,
      "outputs": [
        {
          "output_type": "stream",
          "text": [
            "100%|██████████| 34/34 [00:00<00:00, 1095.53it/s]\n"
          ],
          "name": "stderr"
        }
      ]
    },
    {
      "cell_type": "code",
      "metadata": {
        "id": "Xh6JEPzn_clS",
        "outputId": "9bb52a31-3589-4d88-f8e2-32df628cfe17",
        "colab": {
          "base_uri": "https://localhost:8080/"
        }
      },
      "source": [
        "mat_inv"
      ],
      "execution_count": 21,
      "outputs": [
        {
          "output_type": "execute_result",
          "data": {
            "text/plain": [
              "array([[1.        , 0.1720679 , 0.27160494, ..., 0.35493827, 0.18981481,\n",
              "        0.21450617],\n",
              "       [0.1720679 , 1.        , 0.13734568, ..., 0.16975309, 0.11651235,\n",
              "        0.11959877],\n",
              "       [0.27160494, 0.13734568, 1.        , ..., 0.25      , 0.16203704,\n",
              "        0.17746914],\n",
              "       ...,\n",
              "       [0.35493827, 0.16975309, 0.25      , ..., 1.        , 0.19675926,\n",
              "        0.20833333],\n",
              "       [0.18981481, 0.11651235, 0.16203704, ..., 0.19675926, 1.        ,\n",
              "        0.14660494],\n",
              "       [0.21450617, 0.11959877, 0.17746914, ..., 0.20833333, 0.14660494,\n",
              "        1.        ]])"
            ]
          },
          "metadata": {
            "tags": []
          },
          "execution_count": 21
        }
      ]
    },
    {
      "cell_type": "markdown",
      "metadata": {
        "id": "4TPOtQmQTAEj"
      },
      "source": [
        "> **(c)** Build a k-nn classifier for the cyrillic dataset by first shuffling the data and holding out 20% of the data for cross validation. Report your accuracy on this holdout set. "
      ]
    },
    {
      "cell_type": "code",
      "metadata": {
        "id": "1KhVaXdfS2mf",
        "outputId": "fc8b1d90-2716-4e14-b458-ca7dff0a4939",
        "colab": {
          "base_uri": "https://localhost:8080/"
        }
      },
      "source": [
        "from sklearn.neighbors import KNeighborsClassifier\n",
        "from sklearn.model_selection import train_test_split\n",
        "\n",
        "X = cyrillic[:,1:]/255\n",
        "y = cyrillic[:,0]\n",
        "\n",
        "X_train, X_test, y_train, y_test = train_test_split(X, y, test_size=.2, shuffle=True)\n",
        "\n",
        "model = KNeighborsClassifier()\n",
        "model.fit(X_train, y_train)\n",
        "model.score(X_test, y_test)\n",
        "#-- You can use Nearest Neighbors as well but then you'll have to calculate accuracy score manually."
      ],
      "execution_count": 23,
      "outputs": [
        {
          "output_type": "execute_result",
          "data": {
            "text/plain": [
              "0.6411498708010336"
            ]
          },
          "metadata": {
            "tags": []
          },
          "execution_count": 23
        }
      ]
    },
    {
      "cell_type": "markdown",
      "metadata": {
        "id": "a6_RpYhyTiDN"
      },
      "source": [
        "> **(d)** Build a decision tree classifier for the cyrillic dataset using the same training and holdout dataset you used in (c). Report your accuracy on this holdout set. "
      ]
    },
    {
      "cell_type": "code",
      "metadata": {
        "id": "882GsxgaTsWE",
        "outputId": "0d925951-cd31-4464-ad85-af8c1beaac7a",
        "colab": {
          "base_uri": "https://localhost:8080/"
        }
      },
      "source": [
        "from sklearn.tree import DecisionTreeClassifier\n",
        "\n",
        "modeltree = DecisionTreeClassifier()\n",
        "modeltree.fit(X_train, y_train)"
      ],
      "execution_count": 24,
      "outputs": [
        {
          "output_type": "execute_result",
          "data": {
            "text/plain": [
              "DecisionTreeClassifier(ccp_alpha=0.0, class_weight=None, criterion='gini',\n",
              "                       max_depth=None, max_features=None, max_leaf_nodes=None,\n",
              "                       min_impurity_decrease=0.0, min_impurity_split=None,\n",
              "                       min_samples_leaf=1, min_samples_split=2,\n",
              "                       min_weight_fraction_leaf=0.0, presort='deprecated',\n",
              "                       random_state=None, splitter='best')"
            ]
          },
          "metadata": {
            "tags": []
          },
          "execution_count": 24
        }
      ]
    },
    {
      "cell_type": "code",
      "metadata": {
        "id": "wt52jGk_9vyZ",
        "outputId": "1fbc64cb-5835-4bc5-acac-b1b2a143effe",
        "colab": {
          "base_uri": "https://localhost:8080/"
        }
      },
      "source": [
        "modeltree.score(X_test, y_test)"
      ],
      "execution_count": 25,
      "outputs": [
        {
          "output_type": "execute_result",
          "data": {
            "text/plain": [
              "0.4305555555555556"
            ]
          },
          "metadata": {
            "tags": []
          },
          "execution_count": 25
        }
      ]
    },
    {
      "cell_type": "markdown",
      "metadata": {
        "id": "_reiMkmOTum0"
      },
      "source": [
        "> **(e)** Build a logistic classifier for the cyrillic dataset using the same training and holdout dataset you used in (c). Report your accuracy on this holdout set. "
      ]
    },
    {
      "cell_type": "code",
      "metadata": {
        "id": "GDim_i-CTysM",
        "outputId": "2a2ec179-a0ad-41ae-a93a-759fa7ad023a",
        "colab": {
          "base_uri": "https://localhost:8080/"
        }
      },
      "source": [
        "from sklearn.linear_model import SGDClassifier\n",
        "\n",
        "modellog = SGDClassifier(loss='log')\n",
        "modellog.fit(X_train, y_train)"
      ],
      "execution_count": 26,
      "outputs": [
        {
          "output_type": "execute_result",
          "data": {
            "text/plain": [
              "SGDClassifier(alpha=0.0001, average=False, class_weight=None,\n",
              "              early_stopping=False, epsilon=0.1, eta0=0.0, fit_intercept=True,\n",
              "              l1_ratio=0.15, learning_rate='optimal', loss='log', max_iter=1000,\n",
              "              n_iter_no_change=5, n_jobs=None, penalty='l2', power_t=0.5,\n",
              "              random_state=None, shuffle=True, tol=0.001,\n",
              "              validation_fraction=0.1, verbose=0, warm_start=False)"
            ]
          },
          "metadata": {
            "tags": []
          },
          "execution_count": 26
        }
      ]
    },
    {
      "cell_type": "code",
      "metadata": {
        "id": "xnvKEdwK_ZRv",
        "outputId": "4d70d09a-3d10-4174-f284-d2556c37b092",
        "colab": {
          "base_uri": "https://localhost:8080/"
        }
      },
      "source": [
        "modellog.score(X_test, y_test)"
      ],
      "execution_count": 27,
      "outputs": [
        {
          "output_type": "execute_result",
          "data": {
            "text/plain": [
              "0.5368217054263565"
            ]
          },
          "metadata": {
            "tags": []
          },
          "execution_count": 27
        }
      ]
    },
    {
      "cell_type": "markdown",
      "metadata": {
        "id": "00Whp1-pTzo_"
      },
      "source": [
        "> **(f)** Compare all your different models and report which was best and why you think the best performing model worked better than the others. "
      ]
    },
    {
      "cell_type": "markdown",
      "metadata": {
        "id": "mUIOXH-hURr_"
      },
      "source": [
        "KNN worked the best. This is likely because of the feature size was large and many local minima exist when preforming stocastic gradiant descent. KNN has the advantage of only looking at the closest vectors in the feature space and since different characters are likely to have much greater distances than similar characters, it was able pick out those similarities easier.\n",
        "\n"
      ]
    }
  ]
}