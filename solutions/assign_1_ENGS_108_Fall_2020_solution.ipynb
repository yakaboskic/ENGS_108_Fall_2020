{
  "nbformat": 4,
  "nbformat_minor": 0,
  "metadata": {
    "colab": {
      "name": "assign_1_ENGS_108_Fall_2020_solution.ipynb",
      "provenance": [],
      "collapsed_sections": [],
      "include_colab_link": true
    },
    "kernelspec": {
      "name": "python3",
      "display_name": "Python 3"
    }
  },
  "cells": [
    {
      "cell_type": "markdown",
      "metadata": {
        "id": "view-in-github",
        "colab_type": "text"
      },
      "source": [
        "<a href=\"https://colab.research.google.com/github/yakaboskic/ENGS_108_Fall_2020/blob/master/solutions/assign_1_ENGS_108_Fall_2020_solution.ipynb\" target=\"_parent\"><img src=\"https://colab.research.google.com/assets/colab-badge.svg\" alt=\"Open In Colab\"/></a>"
      ]
    },
    {
      "cell_type": "markdown",
      "metadata": {
        "id": "Dd0qJjGWPDEY"
      },
      "source": [
        "# **ENGS 108 Fall 2020 Assignment 1**\n",
        "\n",
        "*Due September 21, 2020 at 11:59PM on Canvas*\n",
        "\n",
        "**Instructors:** George Cybenko\n",
        "\n",
        "**TAs:** Chase Yakaboski\n",
        "\n",
        "\n",
        "---\n",
        "\n",
        "## **Rules and Requirements**\n",
        "\n",
        "\n",
        "1.   You are only allowed to use Python packages that are explicity imported in \n",
        "the assignment notebook or are standard (bultin) python libraries like random, os, sys, etc, (Standard Bultin Python libraries will have a Python.org documentation). For this assignment you may use:\n",
        "  *   [Numpy](https://numpy.org/doc/stable/)\n",
        "\n",
        "2.   All code must be fit into the designated code or text blocks in the assignment notebook. They are indentified by a **TODO** qualifier. \n",
        "\n",
        "3. For analytical questions that don't require code, type your answer cleanly in Markdown. For help, see the [Google Colab Markdown Guide](https://colab.research.google.com/notebooks/markdown_guide.ipynb).\n",
        "\n",
        "---\n"
      ]
    },
    {
      "cell_type": "code",
      "metadata": {
        "id": "xWojGPjkVglZ"
      },
      "source": [
        "''' Import Statements '''\n",
        "import numpy as np"
      ],
      "execution_count": 1,
      "outputs": []
    },
    {
      "cell_type": "markdown",
      "metadata": {
        "id": "fNZk6SzuQ4DZ"
      },
      "source": [
        "## **Problem 1**\n",
        "\n",
        "\n",
        "> This problem involves the 150 by 150 matrix, $A$, defined by:\n",
        "> $$A(i,j) = \\frac{i-j}{i+j} \\text{ for } 1 \\leq i,j\\leq 150$$\n",
        "\n"
      ]
    },
    {
      "cell_type": "code",
      "metadata": {
        "id": "liUedzcWO9K7"
      },
      "source": [
        "def createMatrix(n=150):\n",
        "  ''' Implement this python function to return a square matrix with the above property. '''\n",
        "  \n",
        "  A = []\n",
        "  for i in range(1,151):\n",
        "    row = []\n",
        "    for j in range(1, 151):\n",
        "      row.append((i-j)/(i+j))\n",
        "    A.append(row)\n",
        "  return np.array(A)\n",
        "\n",
        "A = createMatrix()"
      ],
      "execution_count": 2,
      "outputs": []
    },
    {
      "cell_type": "markdown",
      "metadata": {
        "id": "Vjixd00VSwow"
      },
      "source": [
        "> **Part A**\n",
        "> What is the largest singular value of $A \\cdot A^T$? Hint: Check out [Numpy SVD](https://numpy.org/doc/stable/reference/generated/numpy.linalg.svd.html?highlight=svd#numpy.linalg.svd)."
      ]
    },
    {
      "cell_type": "code",
      "metadata": {
        "id": "I1n5MaqMSsPN",
        "outputId": "c79a93b0-631a-46fe-cb2f-c3856e8900a4",
        "colab": {
          "base_uri": "https://localhost:8080/",
          "height": 35
        }
      },
      "source": [
        "s,v,d = np.linalg.svd(np.dot(A, A.transpose()))\n",
        "max(v)"
      ],
      "execution_count": 3,
      "outputs": [
        {
          "output_type": "execute_result",
          "data": {
            "text/plain": [
              "2499.789500550662"
            ]
          },
          "metadata": {
            "tags": []
          },
          "execution_count": 3
        }
      ]
    },
    {
      "cell_type": "markdown",
      "metadata": {
        "id": "p8IdNq2kUuRZ"
      },
      "source": [
        "> **Part B**\n",
        "> What is the largest singular value of $A$?"
      ]
    },
    {
      "cell_type": "code",
      "metadata": {
        "id": "1TqcVOUoT4gc",
        "outputId": "7f4b18eb-6da8-4e29-9ea7-39366e8bf71d",
        "colab": {
          "base_uri": "https://localhost:8080/",
          "height": 35
        }
      },
      "source": [
        "s,v,d = np.linalg.svd(A)\n",
        "max(v)"
      ],
      "execution_count": 4,
      "outputs": [
        {
          "output_type": "execute_result",
          "data": {
            "text/plain": [
              "49.99789496119473"
            ]
          },
          "metadata": {
            "tags": []
          },
          "execution_count": 4
        }
      ]
    },
    {
      "cell_type": "markdown",
      "metadata": {
        "id": "r8biEh_GVTus"
      },
      "source": [
        ""
      ]
    },
    {
      "cell_type": "markdown",
      "metadata": {
        "id": "1SpmWvGGU6rr"
      },
      "source": [
        "> **Part C**\n",
        "> What is the sum,\n",
        "> $$\\sum_{i=1}^{150}\\sigma_i$$\n",
        "> where $\\sigma_i$ is the $i$th largest singular value of $A$."
      ]
    },
    {
      "cell_type": "code",
      "metadata": {
        "id": "XO2g4oyRVVRF",
        "outputId": "93ae73d0-3e18-47ec-e502-9ebfc1c600d7",
        "colab": {
          "base_uri": "https://localhost:8080/",
          "height": 35
        }
      },
      "source": [
        "sum(v)"
      ],
      "execution_count": 5,
      "outputs": [
        {
          "output_type": "execute_result",
          "data": {
            "text/plain": [
              "103.28637158781213"
            ]
          },
          "metadata": {
            "tags": []
          },
          "execution_count": 5
        }
      ]
    },
    {
      "cell_type": "markdown",
      "metadata": {
        "id": "rY52SoXRWCcr"
      },
      "source": [
        "> **Part D**\n",
        "> What is the ratio,\n",
        "> $$\\frac{\\sigma_1}{\\sigma_{150}}$$\n",
        "> where $\\sigma_i$ is the $i$th largest singular value of $A$."
      ]
    },
    {
      "cell_type": "code",
      "metadata": {
        "id": "k3T-C1oCWTIC",
        "outputId": "f8c8602e-b814-4260-be7b-e66d772fa6c3",
        "colab": {
          "base_uri": "https://localhost:8080/",
          "height": 35
        }
      },
      "source": [
        "max(v)/min(v)"
      ],
      "execution_count": 6,
      "outputs": [
        {
          "output_type": "execute_result",
          "data": {
            "text/plain": [
              "2.9445613890899456e+16"
            ]
          },
          "metadata": {
            "tags": []
          },
          "execution_count": 6
        }
      ]
    },
    {
      "cell_type": "markdown",
      "metadata": {
        "id": "XonLqcUDWtYT"
      },
      "source": [
        "## **Problem 2**\n",
        "> This problem involves the matrix, $A$, from the above problem.\n",
        ">\n",
        "> **Part A** Does $Ax=b$ have a solution for any vector $b$? Explain your answer."
      ]
    },
    {
      "cell_type": "code",
      "metadata": {
        "id": "O5-DTrNw1c-H",
        "outputId": "30effb36-9a6e-45c9-ab2a-0189f961cfa9",
        "colab": {
          "base_uri": "https://localhost:8080/",
          "height": 35
        }
      },
      "source": [
        "np.linalg.matrix_rank(A)"
      ],
      "execution_count": 7,
      "outputs": [
        {
          "output_type": "execute_result",
          "data": {
            "text/plain": [
              "18"
            ]
          },
          "metadata": {
            "tags": []
          },
          "execution_count": 7
        }
      ]
    },
    {
      "cell_type": "markdown",
      "metadata": {
        "id": "hp7s7CorW9jC"
      },
      "source": [
        "It doesn't have to be the case that $b$ is in the $Col(A)$ as $Rank(A) < 150$.\n"
      ]
    },
    {
      "cell_type": "markdown",
      "metadata": {
        "id": "OgI7s3tyXmm_"
      },
      "source": [
        "> **Part B** Solve for $x$ when $Ax = [1, 1, \\dots, 1]^T$. Assume the ones matrix has dimensions 150 x 1."
      ]
    },
    {
      "cell_type": "code",
      "metadata": {
        "id": "9a8ONdJXYHnZ",
        "outputId": "cdc2d40a-727a-451b-d2ce-419f10ccf75e",
        "colab": {
          "base_uri": "https://localhost:8080/",
          "height": 513
        }
      },
      "source": [
        "x = np.linalg.pinv(A) * np.ones((150,1))\n",
        "inv = np.linalg.inv(A)\n",
        "pinv = np.linalg.pinv(A)\n",
        "det = np.linalg.det(A)\n",
        "print('Determinant: {}'.format(det))\n",
        "print('With inv command: {}'.format(inv * np.ones((150, 1))))\n",
        "print('With psuedo inverse command: {}'.format(pinv * np.ones((150,1))))"
      ],
      "execution_count": 8,
      "outputs": [
        {
          "output_type": "stream",
          "text": [
            "Determinant: -0.0\n",
            "With inv command: [[ 2.25959068e+04 -6.96163299e+05  9.19349801e+06 ...  1.01364659e+10\n",
            "  -7.61370303e+09 -9.24191899e+09]\n",
            " [-9.24402962e+05  2.90300204e+07 -3.86767645e+08 ... -3.92281423e+11\n",
            "   2.82593630e+11  3.70295599e+11]\n",
            " [ 1.53809296e+07 -4.92472290e+08  6.64411646e+09 ...  6.46018577e+12\n",
            "  -4.43307810e+12 -6.32740807e+12]\n",
            " ...\n",
            " [ 7.09035029e+09 -2.40959327e+11  3.44190457e+12 ...  2.70191048e+15\n",
            "  -2.76892163e+15 -1.54993560e+15]\n",
            " [-1.86381199e+09  6.48507392e+10 -9.59732381e+11 ... -4.67764748e+14\n",
            "   5.96669377e+14  3.44582086e+14]\n",
            " [ 1.43663071e+08 -4.41332947e+09  5.03983177e+10 ...  1.55001417e+14\n",
            "   1.66347538e+14 -3.62047830e+14]]\n",
            "With psuedo inverse command: [[-3.09599563e+00  3.55550106e+04 -6.56076035e+05 ...  3.78367662e+06\n",
            "   1.06585237e+07  2.03326415e+07]\n",
            " [-3.54016921e+04 -1.89702401e+03  7.92508398e+06 ... -1.05566902e+08\n",
            "  -2.91021808e+08 -5.51547244e+08]\n",
            " [ 6.54472917e+05 -7.88566250e+06 -2.01862124e+05 ...  1.22460359e+09\n",
            "   3.30184602e+09  6.21341187e+09]\n",
            " ...\n",
            " [-3.66869897e+06  1.02480462e+08 -1.19041764e+09 ...  4.91336836e+07\n",
            "   1.92341977e+09  4.79182751e+09]\n",
            " [-1.10409126e+07  3.01329350e+08 -3.41691147e+09 ... -1.98989171e+09\n",
            "  -2.21866398e+08  2.94656913e+09]\n",
            " [-2.02849449e+07  5.50158544e+08 -6.19710939e+09 ... -4.66774811e+09\n",
            "  -3.25944948e+09 -3.54500361e+07]]\n"
          ],
          "name": "stdout"
        }
      ]
    },
    {
      "cell_type": "markdown",
      "metadata": {
        "id": "cNA0S_l_YPrv"
      },
      "source": [
        "## **Problem 3**\n",
        "> Define:\n",
        "> $$ f(x_1, x_2, \\dots, x_{20}) = \\frac{1}{1 + e^{-x_1 - x_2 - \\dots - x_{20}}}$$\n",
        ">\n",
        "> **Part A** What is $\\frac{\\partial f}{\\partial x_i}$?"
      ]
    },
    {
      "cell_type": "markdown",
      "metadata": {
        "id": "gmlta1e7ZJWI"
      },
      "source": [
        "$\\frac{\\partial f}{\\partial x_i} = \\frac{e^{-x_1 - x_2 - \\cdots - x_{20}}}{(1 + e^{-x_1-x_2-\\cdots - x_{20}})^2}$\n"
      ]
    },
    {
      "cell_type": "markdown",
      "metadata": {
        "id": "ofwJGQyTZNxt"
      },
      "source": [
        "> **Part B** What is $\\nabla f(1,0,0, \\dots, 0) \\cdot [1, 1, \\dots, 1]^T$"
      ]
    },
    {
      "cell_type": "markdown",
      "metadata": {
        "id": "sa4OPestag7n"
      },
      "source": [
        "$\\nabla f(1,0,0, \\dots, 0) \\cdot [1, 1, \\dots, 1]^T = \\frac{20}{e(1+e^{-1})^2}$\n",
        "\n"
      ]
    },
    {
      "cell_type": "markdown",
      "metadata": {
        "id": "VPyyBLFQaiM5"
      },
      "source": [
        "## **Problem 4**\n",
        "> You go to dinner with five friends and are seated randomly at a round table with six chairs. Your best friend is Gladis. You really don’t like Cedric.\n",
        ">\n",
        "> **Part A** What is the probability that you are seated next to Cedric?"
      ]
    },
    {
      "cell_type": "markdown",
      "metadata": {
        "id": "b6acBw5YbLZI"
      },
      "source": [
        "You are fixed in a seat. Then there are 5 seats left, of which 2 are adjacent to you. Cedric has an equal probability of sitting in any of these seats and therefore has a $P = \\frac{2}{5}$ of sitting next to you.\n",
        "\n",
        "\n",
        "\n"
      ]
    },
    {
      "cell_type": "markdown",
      "metadata": {
        "id": "FNOXDvSVa7lx"
      },
      "source": [
        "> **Part B** What is the probability that you are seated next to Gladis but not next to Cedric?"
      ]
    },
    {
      "cell_type": "markdown",
      "metadata": {
        "id": "c5Oz6hbPbLpH"
      },
      "source": [
        "$P = \\frac{2}{5} \\cdot \\frac{3}{4} = \\frac{6}{20} = \\frac{3}{10}$\n",
        "\n"
      ]
    },
    {
      "cell_type": "markdown",
      "metadata": {
        "id": "xv5pUeCXa7YU"
      },
      "source": [
        "> **Part C** What is the probability that you are seated between Cedric and Gladis?"
      ]
    },
    {
      "cell_type": "markdown",
      "metadata": {
        "id": "iAbCaDqZbL1x"
      },
      "source": [
        "$P = \\frac{2}{5} \\cdot \\frac{1}{4} = \\frac{1}{10}$"
      ]
    }
  ]
}